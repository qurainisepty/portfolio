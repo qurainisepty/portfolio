{
  "nbformat": 4,
  "nbformat_minor": 0,
  "metadata": {
    "colab": {
      "name": " employee promotion analysis",
      "provenance": [],
      "collapsed_sections": [],
      "authorship_tag": "ABX9TyMa1zJkLLWk+jWZ7T+96D2P",
      "include_colab_link": true
    },
    "kernelspec": {
      "name": "python3",
      "display_name": "Python 3"
    },
    "language_info": {
      "name": "python"
    }
  },
  "cells": [
    {
      "cell_type": "markdown",
      "metadata": {
        "id": "view-in-github",
        "colab_type": "text"
      },
      "source": [
        "<a href=\"https://colab.research.google.com/github/qurainisepty/portfolio/blob/main/employee_promotion_analysis.ipynb\" target=\"_parent\"><img src=\"https://colab.research.google.com/assets/colab-badge.svg\" alt=\"Open In Colab\"/></a>"
      ]
    },
    {
      "cell_type": "code",
      "metadata": {
        "id": "iXuii_eV0rIm"
      },
      "source": [
        "#Standard libraries for data analysis:\n",
        "    \n",
        "import numpy as np\n",
        "import matplotlib.pyplot as plt\n",
        "import pandas as pd\n",
        "from scipy.stats import norm, skew\n",
        "from scipy import stats\n",
        "import statsmodels.api as sm\n",
        "# sklearn modules for data preprocessing:\n",
        "from sklearn.impute import SimpleImputer\n",
        "from sklearn.preprocessing import LabelEncoder, OneHotEncoder\n",
        "from sklearn.compose import ColumnTransformer\n",
        "from sklearn.preprocessing import OneHotEncoder\n",
        "from sklearn.model_selection import train_test_split\n",
        "from sklearn.preprocessing import StandardScaler\n",
        "#sklearn modules for Model Selection:\n",
        "from sklearn import svm, tree, linear_model, neighbors\n",
        "from sklearn import naive_bayes, ensemble, discriminant_analysis, gaussian_process\n",
        "from sklearn.neighbors import KNeighborsClassifier\n",
        "from sklearn.discriminant_analysis import LinearDiscriminantAnalysis\n",
        "from xgboost import XGBClassifier\n",
        "from sklearn.linear_model import LogisticRegression\n",
        "from sklearn.svm import SVC\n",
        "from sklearn.neighbors import KNeighborsClassifier\n",
        "from sklearn.naive_bayes import GaussianNB\n",
        "from sklearn.tree import DecisionTreeClassifier\n",
        "from sklearn.ensemble import RandomForestClassifier\n",
        "#sklearn modules for Model Evaluation & Improvement:\n",
        "    \n",
        "from sklearn.metrics import confusion_matrix, accuracy_score \n",
        "from sklearn.metrics import f1_score, precision_score, recall_score, fbeta_score\n",
        "from statsmodels.stats.outliers_influence import variance_inflation_factor\n",
        "from sklearn.model_selection import cross_val_score\n",
        "from sklearn.model_selection import GridSearchCV\n",
        "from sklearn.model_selection import ShuffleSplit\n",
        "from sklearn.model_selection import KFold\n",
        "from sklearn import feature_selection\n",
        "from sklearn import model_selection\n",
        "from sklearn import metrics\n",
        "from sklearn.metrics import classification_report, precision_recall_curve\n",
        "from sklearn.metrics import auc, roc_auc_score, roc_curve\n",
        "from sklearn.metrics import make_scorer, recall_score, log_loss\n",
        "from sklearn.metrics import average_precision_score\n",
        "#Standard libraries for data visualization:\n",
        "import seaborn as sn\n",
        "import matplotlib as mpl\n",
        "from matplotlib import pyplot\n",
        "import matplotlib.pyplot as plt\n",
        "import matplotlib.pylab as pylab\n",
        "import matplotlib \n",
        "%matplotlib inline\n",
        "color = sn.color_palette()\n",
        "import matplotlib.ticker as mtick\n",
        "from IPython.display import display\n",
        "pd.options.display.max_columns = None\n",
        "from pandas.plotting import scatter_matrix\n",
        "from sklearn.metrics import roc_curve\n",
        "#Miscellaneous Utilitiy Libraries:\n",
        "    \n",
        "import random\n",
        "import os\n",
        "import re\n",
        "import sys\n",
        "import timeit\n",
        "import string\n",
        "import time\n",
        "from datetime import datetime\n",
        "from time import time\n",
        "from dateutil.parser import parse\n",
        "import joblib"
      ],
      "execution_count": null,
      "outputs": []
    },
    {
      "cell_type": "code",
      "metadata": {
        "id": "yYglivsQ2PPQ",
        "outputId": "3732a8e0-8f1a-4b79-8835-2c0761f73e4e",
        "colab": {
          "base_uri": "https://localhost:8080/",
          "height": 322
        }
      },
      "source": [
        "df = pd.read_csv('data_train_dqlab.csv')\n",
        "df.head(5)"
      ],
      "execution_count": null,
      "outputs": [
        {
          "output_type": "execute_result",
          "data": {
            "text/html": [
              "\n",
              "  <div id=\"df-f370324b-dab6-4a12-a273-96aadf439b83\">\n",
              "    <div class=\"colab-df-container\">\n",
              "      <div>\n",
              "<style scoped>\n",
              "    .dataframe tbody tr th:only-of-type {\n",
              "        vertical-align: middle;\n",
              "    }\n",
              "\n",
              "    .dataframe tbody tr th {\n",
              "        vertical-align: top;\n",
              "    }\n",
              "\n",
              "    .dataframe thead th {\n",
              "        text-align: right;\n",
              "    }\n",
              "</style>\n",
              "<table border=\"1\" class=\"dataframe\">\n",
              "  <thead>\n",
              "    <tr style=\"text-align: right;\">\n",
              "      <th></th>\n",
              "      <th>employee_id</th>\n",
              "      <th>department</th>\n",
              "      <th>region</th>\n",
              "      <th>education</th>\n",
              "      <th>gender</th>\n",
              "      <th>job_level</th>\n",
              "      <th>recruitment_channel</th>\n",
              "      <th>no_of_trainings</th>\n",
              "      <th>age</th>\n",
              "      <th>previous_year_rating</th>\n",
              "      <th>length_of_service</th>\n",
              "      <th>awards_won?</th>\n",
              "      <th>avg_training_score</th>\n",
              "      <th>satisfaction_score</th>\n",
              "      <th>engagement_score</th>\n",
              "      <th>is_promoted</th>\n",
              "    </tr>\n",
              "  </thead>\n",
              "  <tbody>\n",
              "    <tr>\n",
              "      <th>0</th>\n",
              "      <td>65438</td>\n",
              "      <td>Sales &amp; Marketing</td>\n",
              "      <td>region_7</td>\n",
              "      <td>Master's &amp; above</td>\n",
              "      <td>f</td>\n",
              "      <td>senior</td>\n",
              "      <td>sourcing</td>\n",
              "      <td>1.0</td>\n",
              "      <td>35.0</td>\n",
              "      <td>5.0</td>\n",
              "      <td>8.0</td>\n",
              "      <td>0.0</td>\n",
              "      <td>49.0</td>\n",
              "      <td>5.0</td>\n",
              "      <td>0.88</td>\n",
              "      <td>0.0</td>\n",
              "    </tr>\n",
              "    <tr>\n",
              "      <th>1</th>\n",
              "      <td>65141</td>\n",
              "      <td>Operations</td>\n",
              "      <td>region_22</td>\n",
              "      <td>Bachelor's</td>\n",
              "      <td>m</td>\n",
              "      <td>middle</td>\n",
              "      <td>other</td>\n",
              "      <td>1.0</td>\n",
              "      <td>30.0</td>\n",
              "      <td>5.0</td>\n",
              "      <td>4.0</td>\n",
              "      <td>0.0</td>\n",
              "      <td>60.0</td>\n",
              "      <td>1.0</td>\n",
              "      <td>0.31</td>\n",
              "      <td>0.0</td>\n",
              "    </tr>\n",
              "    <tr>\n",
              "      <th>2</th>\n",
              "      <td>7513</td>\n",
              "      <td>Sales &amp; Marketing</td>\n",
              "      <td>region_19</td>\n",
              "      <td>Bachelor's</td>\n",
              "      <td>m</td>\n",
              "      <td>middle</td>\n",
              "      <td>sourcing</td>\n",
              "      <td>1.0</td>\n",
              "      <td>34.0</td>\n",
              "      <td>3.0</td>\n",
              "      <td>7.0</td>\n",
              "      <td>0.0</td>\n",
              "      <td>50.0</td>\n",
              "      <td>5.0</td>\n",
              "      <td>3.10</td>\n",
              "      <td>0.0</td>\n",
              "    </tr>\n",
              "    <tr>\n",
              "      <th>3</th>\n",
              "      <td>2542</td>\n",
              "      <td>Sales &amp; Marketing</td>\n",
              "      <td>region_23</td>\n",
              "      <td>Bachelor's</td>\n",
              "      <td>m</td>\n",
              "      <td>senior</td>\n",
              "      <td>other</td>\n",
              "      <td>2.0</td>\n",
              "      <td>39.0</td>\n",
              "      <td>1.0</td>\n",
              "      <td>10.0</td>\n",
              "      <td>0.0</td>\n",
              "      <td>50.0</td>\n",
              "      <td>4.0</td>\n",
              "      <td>0.64</td>\n",
              "      <td>0.0</td>\n",
              "    </tr>\n",
              "    <tr>\n",
              "      <th>4</th>\n",
              "      <td>48945</td>\n",
              "      <td>Technology</td>\n",
              "      <td>region_26</td>\n",
              "      <td>Bachelor's</td>\n",
              "      <td>m</td>\n",
              "      <td>senior</td>\n",
              "      <td>other</td>\n",
              "      <td>1.0</td>\n",
              "      <td>45.0</td>\n",
              "      <td>3.0</td>\n",
              "      <td>2.0</td>\n",
              "      <td>0.0</td>\n",
              "      <td>73.0</td>\n",
              "      <td>2.0</td>\n",
              "      <td>0.95</td>\n",
              "      <td>0.0</td>\n",
              "    </tr>\n",
              "  </tbody>\n",
              "</table>\n",
              "</div>\n",
              "      <button class=\"colab-df-convert\" onclick=\"convertToInteractive('df-f370324b-dab6-4a12-a273-96aadf439b83')\"\n",
              "              title=\"Convert this dataframe to an interactive table.\"\n",
              "              style=\"display:none;\">\n",
              "        \n",
              "  <svg xmlns=\"http://www.w3.org/2000/svg\" height=\"24px\"viewBox=\"0 0 24 24\"\n",
              "       width=\"24px\">\n",
              "    <path d=\"M0 0h24v24H0V0z\" fill=\"none\"/>\n",
              "    <path d=\"M18.56 5.44l.94 2.06.94-2.06 2.06-.94-2.06-.94-.94-2.06-.94 2.06-2.06.94zm-11 1L8.5 8.5l.94-2.06 2.06-.94-2.06-.94L8.5 2.5l-.94 2.06-2.06.94zm10 10l.94 2.06.94-2.06 2.06-.94-2.06-.94-.94-2.06-.94 2.06-2.06.94z\"/><path d=\"M17.41 7.96l-1.37-1.37c-.4-.4-.92-.59-1.43-.59-.52 0-1.04.2-1.43.59L10.3 9.45l-7.72 7.72c-.78.78-.78 2.05 0 2.83L4 21.41c.39.39.9.59 1.41.59.51 0 1.02-.2 1.41-.59l7.78-7.78 2.81-2.81c.8-.78.8-2.07 0-2.86zM5.41 20L4 18.59l7.72-7.72 1.47 1.35L5.41 20z\"/>\n",
              "  </svg>\n",
              "      </button>\n",
              "      \n",
              "  <style>\n",
              "    .colab-df-container {\n",
              "      display:flex;\n",
              "      flex-wrap:wrap;\n",
              "      gap: 12px;\n",
              "    }\n",
              "\n",
              "    .colab-df-convert {\n",
              "      background-color: #E8F0FE;\n",
              "      border: none;\n",
              "      border-radius: 50%;\n",
              "      cursor: pointer;\n",
              "      display: none;\n",
              "      fill: #1967D2;\n",
              "      height: 32px;\n",
              "      padding: 0 0 0 0;\n",
              "      width: 32px;\n",
              "    }\n",
              "\n",
              "    .colab-df-convert:hover {\n",
              "      background-color: #E2EBFA;\n",
              "      box-shadow: 0px 1px 2px rgba(60, 64, 67, 0.3), 0px 1px 3px 1px rgba(60, 64, 67, 0.15);\n",
              "      fill: #174EA6;\n",
              "    }\n",
              "\n",
              "    [theme=dark] .colab-df-convert {\n",
              "      background-color: #3B4455;\n",
              "      fill: #D2E3FC;\n",
              "    }\n",
              "\n",
              "    [theme=dark] .colab-df-convert:hover {\n",
              "      background-color: #434B5C;\n",
              "      box-shadow: 0px 1px 3px 1px rgba(0, 0, 0, 0.15);\n",
              "      filter: drop-shadow(0px 1px 2px rgba(0, 0, 0, 0.3));\n",
              "      fill: #FFFFFF;\n",
              "    }\n",
              "  </style>\n",
              "\n",
              "      <script>\n",
              "        const buttonEl =\n",
              "          document.querySelector('#df-f370324b-dab6-4a12-a273-96aadf439b83 button.colab-df-convert');\n",
              "        buttonEl.style.display =\n",
              "          google.colab.kernel.accessAllowed ? 'block' : 'none';\n",
              "\n",
              "        async function convertToInteractive(key) {\n",
              "          const element = document.querySelector('#df-f370324b-dab6-4a12-a273-96aadf439b83');\n",
              "          const dataTable =\n",
              "            await google.colab.kernel.invokeFunction('convertToInteractive',\n",
              "                                                     [key], {});\n",
              "          if (!dataTable) return;\n",
              "\n",
              "          const docLinkHtml = 'Like what you see? Visit the ' +\n",
              "            '<a target=\"_blank\" href=https://colab.research.google.com/notebooks/data_table.ipynb>data table notebook</a>'\n",
              "            + ' to learn more about interactive tables.';\n",
              "          element.innerHTML = '';\n",
              "          dataTable['output_type'] = 'display_data';\n",
              "          await google.colab.output.renderOutput(dataTable, element);\n",
              "          const docLink = document.createElement('div');\n",
              "          docLink.innerHTML = docLinkHtml;\n",
              "          element.appendChild(docLink);\n",
              "        }\n",
              "      </script>\n",
              "    </div>\n",
              "  </div>\n",
              "  "
            ],
            "text/plain": [
              "   employee_id         department     region         education gender  \\\n",
              "0        65438  Sales & Marketing   region_7  Master's & above      f   \n",
              "1        65141         Operations  region_22        Bachelor's      m   \n",
              "2         7513  Sales & Marketing  region_19        Bachelor's      m   \n",
              "3         2542  Sales & Marketing  region_23        Bachelor's      m   \n",
              "4        48945         Technology  region_26        Bachelor's      m   \n",
              "\n",
              "  job_level recruitment_channel  no_of_trainings   age  previous_year_rating  \\\n",
              "0    senior            sourcing              1.0  35.0                   5.0   \n",
              "1    middle               other              1.0  30.0                   5.0   \n",
              "2    middle            sourcing              1.0  34.0                   3.0   \n",
              "3    senior               other              2.0  39.0                   1.0   \n",
              "4    senior               other              1.0  45.0                   3.0   \n",
              "\n",
              "   length_of_service  awards_won?  avg_training_score  satisfaction_score  \\\n",
              "0                8.0          0.0                49.0                 5.0   \n",
              "1                4.0          0.0                60.0                 1.0   \n",
              "2                7.0          0.0                50.0                 5.0   \n",
              "3               10.0          0.0                50.0                 4.0   \n",
              "4                2.0          0.0                73.0                 2.0   \n",
              "\n",
              "   engagement_score  is_promoted  \n",
              "0              0.88          0.0  \n",
              "1              0.31          0.0  \n",
              "2              3.10          0.0  \n",
              "3              0.64          0.0  \n",
              "4              0.95          0.0  "
            ]
          },
          "metadata": {},
          "execution_count": 4
        }
      ]
    },
    {
      "cell_type": "markdown",
      "metadata": {
        "id": "R5epYPoR3Rzb"
      },
      "source": [
        "### **EDA**"
      ]
    },
    {
      "cell_type": "code",
      "metadata": {
        "id": "10qu_-lg2SXS",
        "colab": {
          "base_uri": "https://localhost:8080/",
          "height": 364
        },
        "outputId": "4608998f-b725-4a04-8a5d-f7aeedb3cec3"
      },
      "source": [
        "df.describe()"
      ],
      "execution_count": null,
      "outputs": [
        {
          "output_type": "execute_result",
          "data": {
            "text/html": [
              "\n",
              "  <div id=\"df-b14f10c6-dbee-496a-a798-90517856371f\">\n",
              "    <div class=\"colab-df-container\">\n",
              "      <div>\n",
              "<style scoped>\n",
              "    .dataframe tbody tr th:only-of-type {\n",
              "        vertical-align: middle;\n",
              "    }\n",
              "\n",
              "    .dataframe tbody tr th {\n",
              "        vertical-align: top;\n",
              "    }\n",
              "\n",
              "    .dataframe thead th {\n",
              "        text-align: right;\n",
              "    }\n",
              "</style>\n",
              "<table border=\"1\" class=\"dataframe\">\n",
              "  <thead>\n",
              "    <tr style=\"text-align: right;\">\n",
              "      <th></th>\n",
              "      <th>employee_id</th>\n",
              "      <th>no_of_trainings</th>\n",
              "      <th>age</th>\n",
              "      <th>previous_year_rating</th>\n",
              "      <th>length_of_service</th>\n",
              "      <th>awards_won?</th>\n",
              "      <th>avg_training_score</th>\n",
              "      <th>satisfaction_score</th>\n",
              "      <th>engagement_score</th>\n",
              "      <th>is_promoted</th>\n",
              "    </tr>\n",
              "  </thead>\n",
              "  <tbody>\n",
              "    <tr>\n",
              "      <th>count</th>\n",
              "      <td>26074.000000</td>\n",
              "      <td>26073.000000</td>\n",
              "      <td>26073.000000</td>\n",
              "      <td>24091.000000</td>\n",
              "      <td>26073.000000</td>\n",
              "      <td>26073.000000</td>\n",
              "      <td>26073.000000</td>\n",
              "      <td>26073.000000</td>\n",
              "      <td>26073.000000</td>\n",
              "      <td>26073.000000</td>\n",
              "    </tr>\n",
              "    <tr>\n",
              "      <th>mean</th>\n",
              "      <td>39095.234448</td>\n",
              "      <td>1.250221</td>\n",
              "      <td>34.805623</td>\n",
              "      <td>3.334897</td>\n",
              "      <td>5.873662</td>\n",
              "      <td>0.022782</td>\n",
              "      <td>63.410041</td>\n",
              "      <td>3.000575</td>\n",
              "      <td>1.506732</td>\n",
              "      <td>0.006559</td>\n",
              "    </tr>\n",
              "    <tr>\n",
              "      <th>std</th>\n",
              "      <td>22561.056985</td>\n",
              "      <td>0.601903</td>\n",
              "      <td>7.663636</td>\n",
              "      <td>1.260902</td>\n",
              "      <td>4.290081</td>\n",
              "      <td>0.149211</td>\n",
              "      <td>13.385774</td>\n",
              "      <td>1.413549</td>\n",
              "      <td>1.189735</td>\n",
              "      <td>0.080720</td>\n",
              "    </tr>\n",
              "    <tr>\n",
              "      <th>min</th>\n",
              "      <td>2.000000</td>\n",
              "      <td>1.000000</td>\n",
              "      <td>20.000000</td>\n",
              "      <td>1.000000</td>\n",
              "      <td>1.000000</td>\n",
              "      <td>0.000000</td>\n",
              "      <td>39.000000</td>\n",
              "      <td>1.000000</td>\n",
              "      <td>0.000000</td>\n",
              "      <td>0.000000</td>\n",
              "    </tr>\n",
              "    <tr>\n",
              "      <th>25%</th>\n",
              "      <td>19509.250000</td>\n",
              "      <td>1.000000</td>\n",
              "      <td>29.000000</td>\n",
              "      <td>3.000000</td>\n",
              "      <td>3.000000</td>\n",
              "      <td>0.000000</td>\n",
              "      <td>51.000000</td>\n",
              "      <td>2.000000</td>\n",
              "      <td>0.550000</td>\n",
              "      <td>0.000000</td>\n",
              "    </tr>\n",
              "    <tr>\n",
              "      <th>50%</th>\n",
              "      <td>39131.000000</td>\n",
              "      <td>1.000000</td>\n",
              "      <td>33.000000</td>\n",
              "      <td>3.000000</td>\n",
              "      <td>5.000000</td>\n",
              "      <td>0.000000</td>\n",
              "      <td>60.000000</td>\n",
              "      <td>3.000000</td>\n",
              "      <td>1.180000</td>\n",
              "      <td>0.000000</td>\n",
              "    </tr>\n",
              "    <tr>\n",
              "      <th>75%</th>\n",
              "      <td>58504.750000</td>\n",
              "      <td>1.000000</td>\n",
              "      <td>39.000000</td>\n",
              "      <td>4.000000</td>\n",
              "      <td>7.000000</td>\n",
              "      <td>0.000000</td>\n",
              "      <td>76.000000</td>\n",
              "      <td>4.000000</td>\n",
              "      <td>2.230000</td>\n",
              "      <td>0.000000</td>\n",
              "    </tr>\n",
              "    <tr>\n",
              "      <th>max</th>\n",
              "      <td>78297.000000</td>\n",
              "      <td>10.000000</td>\n",
              "      <td>60.000000</td>\n",
              "      <td>5.000000</td>\n",
              "      <td>34.000000</td>\n",
              "      <td>1.000000</td>\n",
              "      <td>99.000000</td>\n",
              "      <td>5.000000</td>\n",
              "      <td>5.000000</td>\n",
              "      <td>1.000000</td>\n",
              "    </tr>\n",
              "  </tbody>\n",
              "</table>\n",
              "</div>\n",
              "      <button class=\"colab-df-convert\" onclick=\"convertToInteractive('df-b14f10c6-dbee-496a-a798-90517856371f')\"\n",
              "              title=\"Convert this dataframe to an interactive table.\"\n",
              "              style=\"display:none;\">\n",
              "        \n",
              "  <svg xmlns=\"http://www.w3.org/2000/svg\" height=\"24px\"viewBox=\"0 0 24 24\"\n",
              "       width=\"24px\">\n",
              "    <path d=\"M0 0h24v24H0V0z\" fill=\"none\"/>\n",
              "    <path d=\"M18.56 5.44l.94 2.06.94-2.06 2.06-.94-2.06-.94-.94-2.06-.94 2.06-2.06.94zm-11 1L8.5 8.5l.94-2.06 2.06-.94-2.06-.94L8.5 2.5l-.94 2.06-2.06.94zm10 10l.94 2.06.94-2.06 2.06-.94-2.06-.94-.94-2.06-.94 2.06-2.06.94z\"/><path d=\"M17.41 7.96l-1.37-1.37c-.4-.4-.92-.59-1.43-.59-.52 0-1.04.2-1.43.59L10.3 9.45l-7.72 7.72c-.78.78-.78 2.05 0 2.83L4 21.41c.39.39.9.59 1.41.59.51 0 1.02-.2 1.41-.59l7.78-7.78 2.81-2.81c.8-.78.8-2.07 0-2.86zM5.41 20L4 18.59l7.72-7.72 1.47 1.35L5.41 20z\"/>\n",
              "  </svg>\n",
              "      </button>\n",
              "      \n",
              "  <style>\n",
              "    .colab-df-container {\n",
              "      display:flex;\n",
              "      flex-wrap:wrap;\n",
              "      gap: 12px;\n",
              "    }\n",
              "\n",
              "    .colab-df-convert {\n",
              "      background-color: #E8F0FE;\n",
              "      border: none;\n",
              "      border-radius: 50%;\n",
              "      cursor: pointer;\n",
              "      display: none;\n",
              "      fill: #1967D2;\n",
              "      height: 32px;\n",
              "      padding: 0 0 0 0;\n",
              "      width: 32px;\n",
              "    }\n",
              "\n",
              "    .colab-df-convert:hover {\n",
              "      background-color: #E2EBFA;\n",
              "      box-shadow: 0px 1px 2px rgba(60, 64, 67, 0.3), 0px 1px 3px 1px rgba(60, 64, 67, 0.15);\n",
              "      fill: #174EA6;\n",
              "    }\n",
              "\n",
              "    [theme=dark] .colab-df-convert {\n",
              "      background-color: #3B4455;\n",
              "      fill: #D2E3FC;\n",
              "    }\n",
              "\n",
              "    [theme=dark] .colab-df-convert:hover {\n",
              "      background-color: #434B5C;\n",
              "      box-shadow: 0px 1px 3px 1px rgba(0, 0, 0, 0.15);\n",
              "      filter: drop-shadow(0px 1px 2px rgba(0, 0, 0, 0.3));\n",
              "      fill: #FFFFFF;\n",
              "    }\n",
              "  </style>\n",
              "\n",
              "      <script>\n",
              "        const buttonEl =\n",
              "          document.querySelector('#df-b14f10c6-dbee-496a-a798-90517856371f button.colab-df-convert');\n",
              "        buttonEl.style.display =\n",
              "          google.colab.kernel.accessAllowed ? 'block' : 'none';\n",
              "\n",
              "        async function convertToInteractive(key) {\n",
              "          const element = document.querySelector('#df-b14f10c6-dbee-496a-a798-90517856371f');\n",
              "          const dataTable =\n",
              "            await google.colab.kernel.invokeFunction('convertToInteractive',\n",
              "                                                     [key], {});\n",
              "          if (!dataTable) return;\n",
              "\n",
              "          const docLinkHtml = 'Like what you see? Visit the ' +\n",
              "            '<a target=\"_blank\" href=https://colab.research.google.com/notebooks/data_table.ipynb>data table notebook</a>'\n",
              "            + ' to learn more about interactive tables.';\n",
              "          element.innerHTML = '';\n",
              "          dataTable['output_type'] = 'display_data';\n",
              "          await google.colab.output.renderOutput(dataTable, element);\n",
              "          const docLink = document.createElement('div');\n",
              "          docLink.innerHTML = docLinkHtml;\n",
              "          element.appendChild(docLink);\n",
              "        }\n",
              "      </script>\n",
              "    </div>\n",
              "  </div>\n",
              "  "
            ],
            "text/plain": [
              "        employee_id  no_of_trainings           age  previous_year_rating  \\\n",
              "count  26074.000000     26073.000000  26073.000000          24091.000000   \n",
              "mean   39095.234448         1.250221     34.805623              3.334897   \n",
              "std    22561.056985         0.601903      7.663636              1.260902   \n",
              "min        2.000000         1.000000     20.000000              1.000000   \n",
              "25%    19509.250000         1.000000     29.000000              3.000000   \n",
              "50%    39131.000000         1.000000     33.000000              3.000000   \n",
              "75%    58504.750000         1.000000     39.000000              4.000000   \n",
              "max    78297.000000        10.000000     60.000000              5.000000   \n",
              "\n",
              "       length_of_service   awards_won?  avg_training_score  \\\n",
              "count       26073.000000  26073.000000        26073.000000   \n",
              "mean            5.873662      0.022782           63.410041   \n",
              "std             4.290081      0.149211           13.385774   \n",
              "min             1.000000      0.000000           39.000000   \n",
              "25%             3.000000      0.000000           51.000000   \n",
              "50%             5.000000      0.000000           60.000000   \n",
              "75%             7.000000      0.000000           76.000000   \n",
              "max            34.000000      1.000000           99.000000   \n",
              "\n",
              "       satisfaction_score  engagement_score   is_promoted  \n",
              "count        26073.000000      26073.000000  26073.000000  \n",
              "mean             3.000575          1.506732      0.006559  \n",
              "std              1.413549          1.189735      0.080720  \n",
              "min              1.000000          0.000000      0.000000  \n",
              "25%              2.000000          0.550000      0.000000  \n",
              "50%              3.000000          1.180000      0.000000  \n",
              "75%              4.000000          2.230000      0.000000  \n",
              "max              5.000000          5.000000      1.000000  "
            ]
          },
          "metadata": {},
          "execution_count": 5
        }
      ]
    },
    {
      "cell_type": "code",
      "metadata": {
        "id": "YBBBFDYrl6L7",
        "colab": {
          "base_uri": "https://localhost:8080/"
        },
        "outputId": "9eed1996-35ce-4407-bb85-41c7d4183639"
      },
      "source": [
        "df['is_promoted'].value_counts()"
      ],
      "execution_count": null,
      "outputs": [
        {
          "output_type": "execute_result",
          "data": {
            "text/plain": [
              "0.0    25902\n",
              "1.0      171\n",
              "Name: is_promoted, dtype: int64"
            ]
          },
          "metadata": {},
          "execution_count": 6
        }
      ]
    },
    {
      "cell_type": "code",
      "metadata": {
        "id": "ID1jQXwITrM_",
        "colab": {
          "base_uri": "https://localhost:8080/",
          "height": 318
        },
        "outputId": "3575154b-fbc6-4874-d17e-cf6cf010b36c"
      },
      "source": [
        "sizes = df['is_promoted'].value_counts(sort = True)\n",
        "colors = [\"purple\", \"yellow\"]\n",
        "mpl.rcParams['figure.figsize'] = 5,5\n",
        "labels = \"Not Promoted\", \"Promoted\"\n",
        "explode = (0.05, 0)\n",
        "plt.pie(sizes, explode = explode, labels = labels, colors = ['#ba55d3', '#b0c4de'],\n",
        "                        autopct = '%1.1f%%', shadow = True, startangle = 270)\n",
        "plt.title(\"Precentage of Promoted\")\n",
        "plt.show()"
      ],
      "execution_count": null,
      "outputs": [
        {
          "output_type": "display_data",
          "data": {
            "image/png": "[encoded data removed]",
            "text/plain": [
              "<Figure size 360x360 with 1 Axes>"
            ]
          },
          "metadata": {}
        }
      ]
    },
    {
      "cell_type": "code",
      "metadata": {
        "id": "bQU-lkx23kz_",
        "colab": {
          "base_uri": "https://localhost:8080/",
          "height": 1000
        },
        "outputId": "9a15adfd-f738-488e-c9e2-7d868336878f"
      },
      "source": [
        "integer = ['age', 'length_of_service', 'avg_training_score','engagement_score']\n",
        "for var in integer:\n",
        "    plt.figure(figsize=(10,5))\n",
        "    plt.subplot(1,2,1)\n",
        "    fig = df.boxplot(column=var, color = 'green')\n",
        "    fig.set_title('Outliers')\n",
        "    fig.set_ylabel(var)\n",
        "    plt.show()"
      ],
      "execution_count": null,
      "outputs": [
        {
          "output_type": "display_data",
          "data": {
            "image/png": "[encoded data removed]",
            "text/plain": [
              "<Figure size 720x360 with 1 Axes>"
            ]
          },
          "metadata": {
            "needs_background": "light"
          }
        },
        {
          "output_type": "display_data",
          "data": {
            "image/png": "[encoded data removed]",
            "text/plain": [
              "<Figure size 720x360 with 1 Axes>"
            ]
          },
          "metadata": {
            "needs_background": "light"
          }
        },
        {
          "output_type": "display_data",
          "data": {
            "image/png": "[encoded data removed]",
            "text/plain": [
              "<Figure size 720x360 with 1 Axes>"
            ]
          },
          "metadata": {
            "needs_background": "light"
          }
        },
        {
          "output_type": "display_data",
          "data": {
            "image/png": "[encoded data removed]",
            "text/plain": [
              "<Figure size 720x360 with 1 Axes>"
            ]
          },
          "metadata": {
            "needs_background": "light"
          }
        }
      ]
    },
    {
      "cell_type": "code",
      "metadata": {
        "id": "fr8j43YOFLMI",
        "colab": {
          "base_uri": "https://localhost:8080/",
          "height": 704
        },
        "outputId": "08f7f0e8-bf2f-43ed-eaa9-2c0c28cfb5bf"
      },
      "source": [
        "atribut = ['department','education', 'gender', 'job_level', 'recruitment_channel' ]\n",
        "fig, axes = plt.subplots(nrows = 2,ncols = 3,\n",
        "figsize = (15,12))\n",
        "for i, item in enumerate(atribut):\n",
        "    if i < 3:\n",
        "       ax = df[item].value_counts().plot(\n",
        "       kind = 'bar',\n",
        "       rot = 0, color ='#f3babc' )\n",
        "        \n",
        "    elif i >=3 and i < 6:\n",
        "       ax = df[item].value_counts().plot(\n",
        "       kind = 'bar',ax=axes[i-3,1],\n",
        "       rot = 0,color ='#9b9c9a')\n",
        "        \n",
        "    elif i >=6:\n",
        "       ax = df[item].value_counts().plot(\n",
        "       kind = 'bar',ax=axes[i-6,1],rot = 0,\n",
        "       color = '#ec838a')\n",
        "       ax.set_title(item)"
      ],
      "execution_count": null,
      "outputs": [
        {
          "output_type": "display_data",
          "data": {
            "image/png": "[encoded data removed]",
            "text/plain": [
              "<Figure size 1080x864 with 6 Axes>"
            ]
          },
          "metadata": {
            "needs_background": "light"
          }
        }
      ]
    },
    {
      "cell_type": "code",
      "metadata": {
        "id": "rHIQE0hGIwy2",
        "colab": {
          "base_uri": "https://localhost:8080/",
          "height": 335
        },
        "outputId": "bb9130ed-3d74-4b05-8f52-f80a1694d49f"
      },
      "source": [
        "df['department'].value_counts().plot(kind = 'bar',rot = 0, color ='#f3babc', figsize=(12,5) )\n",
        "plt.title('Department')\n",
        "plt.show()"
      ],
      "execution_count": null,
      "outputs": [
        {
          "output_type": "display_data",
          "data": {
            "image/png": "[encoded data removed]",
            "text/plain": [
              "<Figure size 864x360 with 1 Axes>"
            ]
          },
          "metadata": {
            "needs_background": "light"
          }
        }
      ]
    },
    {
      "cell_type": "code",
      "metadata": {
        "id": "Izuk2s_hJypX",
        "colab": {
          "base_uri": "https://localhost:8080/",
          "height": 335
        },
        "outputId": "ab6e3638-34e2-41d9-c26a-b3c4f26a9acf"
      },
      "source": [
        "df['education'].value_counts().plot(kind = 'bar',rot = 0, color ='#9370db', figsize=(5,5) )\n",
        "plt.title('Education')\n",
        "plt.show()"
      ],
      "execution_count": null,
      "outputs": [
        {
          "output_type": "display_data",
          "data": {
            "image/png": "[encoded data removed]",
            "text/plain": [
              "<Figure size 360x360 with 1 Axes>"
            ]
          },
          "metadata": {
            "needs_background": "light"
          }
        }
      ]
    },
    {
      "cell_type": "code",
      "metadata": {
        "id": "pyktni7FBjsh",
        "colab": {
          "base_uri": "https://localhost:8080/",
          "height": 784
        },
        "outputId": "fa10b35d-ff84-412d-c5ed-40c49205d959"
      },
      "source": [
        "import matplotlib.ticker as mtick\n",
        "dep = df.groupby(['department','is_promoted']).size().unstack()\n",
        "colors  = ['#fa8072','#9b9c9a']\n",
        "ax = (dep.T*100.0 / dep.T.sum()).T.plot(kind='bar',width = 0.3,stacked = True,rot = 0,figsize = (12,7),color = colors)\n",
        "plt.ylabel('Proportion',\n",
        "horizontalalignment=\"center\",fontstyle = \"normal\", \n",
        "fontsize = \"large\", fontfamily = \"sans-serif\")\n",
        "plt.xlabel('Department\\n',horizontalalignment=\"center\",\n",
        "fontstyle = \"normal\", fontsize = \"large\", \n",
        "fontfamily = \"sans-serif\")\n",
        "plt.title('Proportion of Department Employees Promoted\\n',\n",
        "horizontalalignment=\"center\", fontstyle = \"normal\", \n",
        "fontsize = \"22\", fontfamily = \"sans-serif\")\n",
        "plt.legend(loc='top right', fontsize = \"medium\")\n",
        "plt.xticks(rotation=0, horizontalalignment=\"center\")\n",
        "plt.yticks(rotation=0, horizontalalignment=\"right\")\n",
        "ax.yaxis.set_major_formatter(mtick.PercentFormatter())\n",
        "for p in ax.patches:\n",
        "    width, height = p.get_width(), p.get_height()\n",
        "    x, y = p.get_xy() \n",
        "    ax.text(x+width/2, \n",
        "            y+height/2, \n",
        "            '{:.1f}%'.format(height), \n",
        "            horizontalalignment='center', \n",
        "            verticalalignment='center')\n",
        "ax.autoscale(enable=False, axis='both', tight=False)"
      ],
      "execution_count": null,
      "outputs": [
        {
          "output_type": "stream",
          "name": "stderr",
          "text": [
            "/usr/local/lib/python3.7/dist-packages/ipykernel_launcher.py:14: MatplotlibDeprecationWarning: Unrecognized location 'top right'. Falling back on 'best'; valid locations are\n",
            "\tbest\n",
            "\tupper right\n",
            "\tupper left\n",
            "\tlower left\n",
            "\tlower right\n",
            "\tright\n",
            "\tcenter left\n",
            "\tcenter right\n",
            "\tlower center\n",
            "\tupper center\n",
            "\tcenter\n",
            "This will raise an exception in 3.3.\n",
            "  \n"
          ]
        },
        {
          "output_type": "display_data",
          "data": {
            "image/png": "[encoded data removed]",
            "text/plain": [
              "<Figure size 864x504 with 1 Axes>"
            ]
          },
          "metadata": {
            "needs_background": "light"
          }
        }
      ]
    },
    {
      "cell_type": "code",
      "metadata": {
        "id": "Rn9JdkqeEw_W",
        "colab": {
          "base_uri": "https://localhost:8080/"
        },
        "outputId": "143c8f6a-8caa-40fc-ff04-3df1e67989d6"
      },
      "source": [
        "df['department'].value_counts()\n",
        "dept_crosstab = pd.crosstab(df.department, df.is_promoted)\n",
        "print(dept_crosstab)"
      ],
      "execution_count": null,
      "outputs": [
        {
          "output_type": "stream",
          "name": "stdout",
          "text": [
            "is_promoted         0.0  1.0\n",
            "department                  \n",
            "Analytics          2541   15\n",
            "Finance            1180    7\n",
            "HR                 1173    7\n",
            "Legal               523    4\n",
            "Operations         5329   34\n",
            "Procurement        3325   28\n",
            "R&D                 483    2\n",
            "Sales & Marketing  7914   51\n",
            "Technology         3434   23\n"
          ]
        }
      ]
    },
    {
      "cell_type": "code",
      "metadata": {
        "id": "NkJcwraNK5jm",
        "colab": {
          "base_uri": "https://localhost:8080/",
          "height": 784
        },
        "outputId": "4e6d2311-dd0c-4e61-b170-2b76670af7f2"
      },
      "source": [
        "ed = df.groupby(['education','job_level']).size().unstack()\n",
        "colors  = ['#6a5acd','#9370db','#a9a9a9']\n",
        "ax = (ed.T*100.0 / ed.T.sum()).T.plot(kind='bar',width = 0.3,stacked = True,rot = 0,figsize = (12,7),color = colors)\n",
        "plt.ylabel('Proportion',\n",
        "horizontalalignment=\"center\",fontstyle = \"normal\", \n",
        "fontsize = \"large\", fontfamily = \"sans-serif\")\n",
        "plt.xlabel('Education\\n',horizontalalignment=\"center\",\n",
        "fontstyle = \"normal\", fontsize = \"large\", \n",
        "fontfamily = \"sans-serif\")\n",
        "plt.title('Proportion of Education by Job Level\\n',\n",
        "horizontalalignment=\"center\", fontstyle = \"normal\", \n",
        "fontsize = \"22\", fontfamily = \"sans-serif\")\n",
        "plt.legend(loc='top right', fontsize = \"medium\")\n",
        "plt.xticks(rotation=0, horizontalalignment=\"center\")\n",
        "plt.yticks(rotation=0, horizontalalignment=\"right\")\n",
        "ax.yaxis.set_major_formatter(mtick.PercentFormatter())\n",
        "for p in ax.patches:\n",
        "    width, height = p.get_width(), p.get_height()\n",
        "    x, y = p.get_xy() \n",
        "    ax.text(x+width/2, \n",
        "            y+height/2, \n",
        "            '{:.1f}%'.format(height), \n",
        "            horizontalalignment='center', \n",
        "            verticalalignment='center')\n",
        "ax.autoscale(enable=False, axis='both', tight=False)"
      ],
      "execution_count": null,
      "outputs": [
        {
          "output_type": "stream",
          "name": "stderr",
          "text": [
            "/usr/local/lib/python3.7/dist-packages/ipykernel_launcher.py:13: MatplotlibDeprecationWarning: Unrecognized location 'top right'. Falling back on 'best'; valid locations are\n",
            "\tbest\n",
            "\tupper right\n",
            "\tupper left\n",
            "\tlower left\n",
            "\tlower right\n",
            "\tright\n",
            "\tcenter left\n",
            "\tcenter right\n",
            "\tlower center\n",
            "\tupper center\n",
            "\tcenter\n",
            "This will raise an exception in 3.3.\n",
            "  del sys.path[0]\n"
          ]
        },
        {
          "output_type": "display_data",
          "data": {
            "image/png": "[encoded data removed]",
            "text/plain": [
              "<Figure size 864x504 with 1 Axes>"
            ]
          },
          "metadata": {
            "needs_background": "light"
          }
        }
      ]
    },
    {
      "cell_type": "code",
      "metadata": {
        "id": "LKWESncvOxxr"
      },
      "source": [
        "del df['employee_id']"
      ],
      "execution_count": null,
      "outputs": []
    },
    {
      "cell_type": "code",
      "metadata": {
        "id": "n-Agn4m3N51C",
        "colab": {
          "base_uri": "https://localhost:8080/",
          "height": 660
        },
        "outputId": "0eb83175-b98e-4daf-86c4-5428d5b09719"
      },
      "source": [
        "correlations = df.corrwith(df.is_promoted)\n",
        "correlations = correlations[correlations!=1]\n",
        "correlations.plot.bar(\n",
        "        figsize = (8, 8), \n",
        "        fontsize = 15, \n",
        "        color = '#9932cc',\n",
        "        rot = 45, grid = True)\n",
        "plt.title('Correlation with Variable is_promoted \\n',\n",
        "horizontalalignment=\"center\", fontstyle = \"normal\", \n",
        "fontsize = \"22\", fontfamily = \"sans-serif\")"
      ],
      "execution_count": null,
      "outputs": [
        {
          "output_type": "execute_result",
          "data": {
            "text/plain": [
              "Text(0.5, 1.0, 'Correlation with Variable is_promoted \\n')"
            ]
          },
          "metadata": {},
          "execution_count": 16
        },
        {
          "output_type": "display_data",
          "data": {
            "image/png": "[encoded data removed]",
            "text/plain": [
              "<Figure size 576x576 with 1 Axes>"
            ]
          },
          "metadata": {
            "needs_background": "light"
          }
        }
      ]
    },
    {
      "cell_type": "markdown",
      "metadata": {
        "id": "uMaS0LvcRqzT"
      },
      "source": [
        "**PREPOCESSING**"
      ]
    },
    {
      "cell_type": "code",
      "metadata": {
        "id": "oFBMfoaOZtrQ",
        "colab": {
          "base_uri": "https://localhost:8080/"
        },
        "outputId": "dc8524bb-0fb5-4dbe-8f71-244815411109"
      },
      "source": [
        "# Missing Value\n",
        "df.isnull().sum()"
      ],
      "execution_count": null,
      "outputs": [
        {
          "output_type": "execute_result",
          "data": {
            "text/plain": [
              "department                 0\n",
              "region                     0\n",
              "education               1180\n",
              "gender                     0\n",
              "job_level                  0\n",
              "recruitment_channel        0\n",
              "no_of_trainings            1\n",
              "age                        1\n",
              "previous_year_rating    1983\n",
              "length_of_service          1\n",
              "awards_won?                1\n",
              "avg_training_score         1\n",
              "satisfaction_score         1\n",
              "engagement_score           1\n",
              "is_promoted                1\n",
              "dtype: int64"
            ]
          },
          "metadata": {},
          "execution_count": 17
        }
      ]
    },
    {
      "cell_type": "code",
      "metadata": {
        "id": "fsv1mqnWZ5td"
      },
      "source": [
        "# Fill NA in previous_year_rating with mean value\n",
        "average_rating = df['previous_year_rating'].mean()\n",
        "df['previous_year_rating'] = df['previous_year_rating'].fillna(average_rating)\n",
        "df.dropna(inplace = True)"
      ],
      "execution_count": null,
      "outputs": []
    },
    {
      "cell_type": "markdown",
      "metadata": {
        "id": "ZNvtkVZLR7Vy"
      },
      "source": [
        "**1. NORMALITAS**"
      ]
    },
    {
      "cell_type": "code",
      "metadata": {
        "id": "BMbKt_DwRuvX",
        "colab": {
          "base_uri": "https://localhost:8080/",
          "height": 536
        },
        "outputId": "27c07fa8-22dd-4a51-c0c5-0eeaf950f03f"
      },
      "source": [
        "import seaborn as sns\n",
        "plt.figure(figsize=(12,5))\n",
        "for i in range(0, len(integer)):\n",
        "    plt.subplot(2, len(integer)/2, i+1)\n",
        "    sns.distplot(df[integer[i]], color='#4682b4')\n",
        "    plt.tight_layout()"
      ],
      "execution_count": null,
      "outputs": [
        {
          "output_type": "stream",
          "name": "stderr",
          "text": [
            "/usr/local/lib/python3.7/dist-packages/seaborn/distributions.py:2619: FutureWarning: `distplot` is a deprecated function and will be removed in a future version. Please adapt your code to use either `displot` (a figure-level function with similar flexibility) or `histplot` (an axes-level function for histograms).\n",
            "  warnings.warn(msg, FutureWarning)\n",
            "/usr/local/lib/python3.7/dist-packages/seaborn/distributions.py:2619: FutureWarning: `distplot` is a deprecated function and will be removed in a future version. Please adapt your code to use either `displot` (a figure-level function with similar flexibility) or `histplot` (an axes-level function for histograms).\n",
            "  warnings.warn(msg, FutureWarning)\n",
            "/usr/local/lib/python3.7/dist-packages/seaborn/distributions.py:2619: FutureWarning: `distplot` is a deprecated function and will be removed in a future version. Please adapt your code to use either `displot` (a figure-level function with similar flexibility) or `histplot` (an axes-level function for histograms).\n",
            "  warnings.warn(msg, FutureWarning)\n",
            "/usr/local/lib/python3.7/dist-packages/seaborn/distributions.py:2619: FutureWarning: `distplot` is a deprecated function and will be removed in a future version. Please adapt your code to use either `displot` (a figure-level function with similar flexibility) or `histplot` (an axes-level function for histograms).\n",
            "  warnings.warn(msg, FutureWarning)\n"
          ]
        },
        {
          "output_type": "display_data",
          "data": {
            "image/png": "[encoded data removed]",
            "text/plain": [
              "<Figure size 864x360 with 4 Axes>"
            ]
          },
          "metadata": {
            "needs_background": "light"
          }
        }
      ]
    },
    {
      "cell_type": "markdown",
      "metadata": {
        "id": "cywKgv3bTToy"
      },
      "source": [
        "**2. Multicolinearity**"
      ]
    },
    {
      "cell_type": "code",
      "metadata": {
        "id": "4hNOy4mGTXix",
        "colab": {
          "base_uri": "https://localhost:8080/",
          "height": 621
        },
        "outputId": "44590ea8-afe5-4ec0-d6dd-d5677b1f37b3"
      },
      "source": [
        "#Set and compute the Correlation Matrix:\n",
        "sn.set(style=\"white\")\n",
        "corr = df.corr()\n",
        "#Generate a mask for the upper triangle:\n",
        "mask = np.zeros_like(corr, dtype=np.bool)\n",
        "mask[np.triu_indices_from(mask)] = True\n",
        "#Set up the matplotlib figure and a diverging colormap:\n",
        "f, ax = plt.subplots(figsize=(10, 10))\n",
        "cmap = sn.diverging_palette(220, 10, as_cmap=True)\n",
        "#Draw the heatmap with the mask and correct aspect ratio:\n",
        "sn.heatmap(corr, mask=mask, cmap=cmap, vmax=.3, center=0,\n",
        "square=True, linewidths=.5, cbar_kws={\"shrink\": .5})"
      ],
      "execution_count": null,
      "outputs": [
        {
          "output_type": "execute_result",
          "data": {
            "text/plain": [
              "<matplotlib.axes._subplots.AxesSubplot at 0x7f31cbf63050>"
            ]
          },
          "metadata": {},
          "execution_count": 20
        },
        {
          "output_type": "display_data",
          "data": {
            "image/png": "[encoded data removed]",
            "text/plain": [
              "<Figure size 720x720 with 2 Axes>"
            ]
          },
          "metadata": {}
        }
      ]
    },
    {
      "cell_type": "code",
      "metadata": {
        "id": "h-BxHrtVUn7P"
      },
      "source": [
        "# Encoding Data\n",
        "replace1 = ['f','m']\n",
        "replacement1 = [0, 1]\n",
        "df_en = df.copy()\n",
        "df_en['gender'].replace(replace1, replacement1, inplace = True)"
      ],
      "execution_count": null,
      "outputs": []
    },
    {
      "cell_type": "code",
      "metadata": {
        "id": "aqffGmu1WfvK",
        "colab": {
          "base_uri": "https://localhost:8080/",
          "height": 322
        },
        "outputId": "f0eb96f8-2edd-4b9c-df19-d7323b4b5272"
      },
      "source": [
        "from sklearn.preprocessing import OneHotEncoder as enc\n",
        "\n",
        "one_hot_encoded_data = pd.get_dummies(df_en, columns = ['job_level', 'recruitment_channel'])\n",
        "df_enc = one_hot_encoded_data\n",
        "df_enc.head(5)"
      ],
      "execution_count": null,
      "outputs": [
        {
          "output_type": "execute_result",
          "data": {
            "text/html": [
              "\n",
              "  <div id=\"df-c37623ef-968e-4ca0-a8a7-96713804152d\">\n",
              "    <div class=\"colab-df-container\">\n",
              "      <div>\n",
              "<style scoped>\n",
              "    .dataframe tbody tr th:only-of-type {\n",
              "        vertical-align: middle;\n",
              "    }\n",
              "\n",
              "    .dataframe tbody tr th {\n",
              "        vertical-align: top;\n",
              "    }\n",
              "\n",
              "    .dataframe thead th {\n",
              "        text-align: right;\n",
              "    }\n",
              "</style>\n",
              "<table border=\"1\" class=\"dataframe\">\n",
              "  <thead>\n",
              "    <tr style=\"text-align: right;\">\n",
              "      <th></th>\n",
              "      <th>department</th>\n",
              "      <th>region</th>\n",
              "      <th>education</th>\n",
              "      <th>gender</th>\n",
              "      <th>no_of_trainings</th>\n",
              "      <th>age</th>\n",
              "      <th>previous_year_rating</th>\n",
              "      <th>length_of_service</th>\n",
              "      <th>awards_won?</th>\n",
              "      <th>avg_training_score</th>\n",
              "      <th>satisfaction_score</th>\n",
              "      <th>engagement_score</th>\n",
              "      <th>is_promoted</th>\n",
              "      <th>job_level_junior</th>\n",
              "      <th>job_level_middle</th>\n",
              "      <th>job_level_senior</th>\n",
              "      <th>recruitment_channel_other</th>\n",
              "      <th>recruitment_channel_referred</th>\n",
              "      <th>recruitment_channel_sourcing</th>\n",
              "    </tr>\n",
              "  </thead>\n",
              "  <tbody>\n",
              "    <tr>\n",
              "      <th>0</th>\n",
              "      <td>Sales &amp; Marketing</td>\n",
              "      <td>region_7</td>\n",
              "      <td>Master's &amp; above</td>\n",
              "      <td>0</td>\n",
              "      <td>1.0</td>\n",
              "      <td>35.0</td>\n",
              "      <td>5.0</td>\n",
              "      <td>8.0</td>\n",
              "      <td>0.0</td>\n",
              "      <td>49.0</td>\n",
              "      <td>5.0</td>\n",
              "      <td>0.88</td>\n",
              "      <td>0.0</td>\n",
              "      <td>0</td>\n",
              "      <td>0</td>\n",
              "      <td>1</td>\n",
              "      <td>0</td>\n",
              "      <td>0</td>\n",
              "      <td>1</td>\n",
              "    </tr>\n",
              "    <tr>\n",
              "      <th>1</th>\n",
              "      <td>Operations</td>\n",
              "      <td>region_22</td>\n",
              "      <td>Bachelor's</td>\n",
              "      <td>1</td>\n",
              "      <td>1.0</td>\n",
              "      <td>30.0</td>\n",
              "      <td>5.0</td>\n",
              "      <td>4.0</td>\n",
              "      <td>0.0</td>\n",
              "      <td>60.0</td>\n",
              "      <td>1.0</td>\n",
              "      <td>0.31</td>\n",
              "      <td>0.0</td>\n",
              "      <td>0</td>\n",
              "      <td>1</td>\n",
              "      <td>0</td>\n",
              "      <td>1</td>\n",
              "      <td>0</td>\n",
              "      <td>0</td>\n",
              "    </tr>\n",
              "    <tr>\n",
              "      <th>2</th>\n",
              "      <td>Sales &amp; Marketing</td>\n",
              "      <td>region_19</td>\n",
              "      <td>Bachelor's</td>\n",
              "      <td>1</td>\n",
              "      <td>1.0</td>\n",
              "      <td>34.0</td>\n",
              "      <td>3.0</td>\n",
              "      <td>7.0</td>\n",
              "      <td>0.0</td>\n",
              "      <td>50.0</td>\n",
              "      <td>5.0</td>\n",
              "      <td>3.10</td>\n",
              "      <td>0.0</td>\n",
              "      <td>0</td>\n",
              "      <td>1</td>\n",
              "      <td>0</td>\n",
              "      <td>0</td>\n",
              "      <td>0</td>\n",
              "      <td>1</td>\n",
              "    </tr>\n",
              "    <tr>\n",
              "      <th>3</th>\n",
              "      <td>Sales &amp; Marketing</td>\n",
              "      <td>region_23</td>\n",
              "      <td>Bachelor's</td>\n",
              "      <td>1</td>\n",
              "      <td>2.0</td>\n",
              "      <td>39.0</td>\n",
              "      <td>1.0</td>\n",
              "      <td>10.0</td>\n",
              "      <td>0.0</td>\n",
              "      <td>50.0</td>\n",
              "      <td>4.0</td>\n",
              "      <td>0.64</td>\n",
              "      <td>0.0</td>\n",
              "      <td>0</td>\n",
              "      <td>0</td>\n",
              "      <td>1</td>\n",
              "      <td>1</td>\n",
              "      <td>0</td>\n",
              "      <td>0</td>\n",
              "    </tr>\n",
              "    <tr>\n",
              "      <th>4</th>\n",
              "      <td>Technology</td>\n",
              "      <td>region_26</td>\n",
              "      <td>Bachelor's</td>\n",
              "      <td>1</td>\n",
              "      <td>1.0</td>\n",
              "      <td>45.0</td>\n",
              "      <td>3.0</td>\n",
              "      <td>2.0</td>\n",
              "      <td>0.0</td>\n",
              "      <td>73.0</td>\n",
              "      <td>2.0</td>\n",
              "      <td>0.95</td>\n",
              "      <td>0.0</td>\n",
              "      <td>0</td>\n",
              "      <td>0</td>\n",
              "      <td>1</td>\n",
              "      <td>1</td>\n",
              "      <td>0</td>\n",
              "      <td>0</td>\n",
              "    </tr>\n",
              "  </tbody>\n",
              "</table>\n",
              "</div>\n",
              "      <button class=\"colab-df-convert\" onclick=\"convertToInteractive('df-c37623ef-968e-4ca0-a8a7-96713804152d')\"\n",
              "              title=\"Convert this dataframe to an interactive table.\"\n",
              "              style=\"display:none;\">\n",
              "        \n",
              "  <svg xmlns=\"http://www.w3.org/2000/svg\" height=\"24px\"viewBox=\"0 0 24 24\"\n",
              "       width=\"24px\">\n",
              "    <path d=\"M0 0h24v24H0V0z\" fill=\"none\"/>\n",
              "    <path d=\"M18.56 5.44l.94 2.06.94-2.06 2.06-.94-2.06-.94-.94-2.06-.94 2.06-2.06.94zm-11 1L8.5 8.5l.94-2.06 2.06-.94-2.06-.94L8.5 2.5l-.94 2.06-2.06.94zm10 10l.94 2.06.94-2.06 2.06-.94-2.06-.94-.94-2.06-.94 2.06-2.06.94z\"/><path d=\"M17.41 7.96l-1.37-1.37c-.4-.4-.92-.59-1.43-.59-.52 0-1.04.2-1.43.59L10.3 9.45l-7.72 7.72c-.78.78-.78 2.05 0 2.83L4 21.41c.39.39.9.59 1.41.59.51 0 1.02-.2 1.41-.59l7.78-7.78 2.81-2.81c.8-.78.8-2.07 0-2.86zM5.41 20L4 18.59l7.72-7.72 1.47 1.35L5.41 20z\"/>\n",
              "  </svg>\n",
              "      </button>\n",
              "      \n",
              "  <style>\n",
              "    .colab-df-container {\n",
              "      display:flex;\n",
              "      flex-wrap:wrap;\n",
              "      gap: 12px;\n",
              "    }\n",
              "\n",
              "    .colab-df-convert {\n",
              "      background-color: #E8F0FE;\n",
              "      border: none;\n",
              "      border-radius: 50%;\n",
              "      cursor: pointer;\n",
              "      display: none;\n",
              "      fill: #1967D2;\n",
              "      height: 32px;\n",
              "      padding: 0 0 0 0;\n",
              "      width: 32px;\n",
              "    }\n",
              "\n",
              "    .colab-df-convert:hover {\n",
              "      background-color: #E2EBFA;\n",
              "      box-shadow: 0px 1px 2px rgba(60, 64, 67, 0.3), 0px 1px 3px 1px rgba(60, 64, 67, 0.15);\n",
              "      fill: #174EA6;\n",
              "    }\n",
              "\n",
              "    [theme=dark] .colab-df-convert {\n",
              "      background-color: #3B4455;\n",
              "      fill: #D2E3FC;\n",
              "    }\n",
              "\n",
              "    [theme=dark] .colab-df-convert:hover {\n",
              "      background-color: #434B5C;\n",
              "      box-shadow: 0px 1px 3px 1px rgba(0, 0, 0, 0.15);\n",
              "      filter: drop-shadow(0px 1px 2px rgba(0, 0, 0, 0.3));\n",
              "      fill: #FFFFFF;\n",
              "    }\n",
              "  </style>\n",
              "\n",
              "      <script>\n",
              "        const buttonEl =\n",
              "          document.querySelector('#df-c37623ef-968e-4ca0-a8a7-96713804152d button.colab-df-convert');\n",
              "        buttonEl.style.display =\n",
              "          google.colab.kernel.accessAllowed ? 'block' : 'none';\n",
              "\n",
              "        async function convertToInteractive(key) {\n",
              "          const element = document.querySelector('#df-c37623ef-968e-4ca0-a8a7-96713804152d');\n",
              "          const dataTable =\n",
              "            await google.colab.kernel.invokeFunction('convertToInteractive',\n",
              "                                                     [key], {});\n",
              "          if (!dataTable) return;\n",
              "\n",
              "          const docLinkHtml = 'Like what you see? Visit the ' +\n",
              "            '<a target=\"_blank\" href=https://colab.research.google.com/notebooks/data_table.ipynb>data table notebook</a>'\n",
              "            + ' to learn more about interactive tables.';\n",
              "          element.innerHTML = '';\n",
              "          dataTable['output_type'] = 'display_data';\n",
              "          await google.colab.output.renderOutput(dataTable, element);\n",
              "          const docLink = document.createElement('div');\n",
              "          docLink.innerHTML = docLinkHtml;\n",
              "          element.appendChild(docLink);\n",
              "        }\n",
              "      </script>\n",
              "    </div>\n",
              "  </div>\n",
              "  "
            ],
            "text/plain": [
              "          department     region         education  gender  no_of_trainings  \\\n",
              "0  Sales & Marketing   region_7  Master's & above       0              1.0   \n",
              "1         Operations  region_22        Bachelor's       1              1.0   \n",
              "2  Sales & Marketing  region_19        Bachelor's       1              1.0   \n",
              "3  Sales & Marketing  region_23        Bachelor's       1              2.0   \n",
              "4         Technology  region_26        Bachelor's       1              1.0   \n",
              "\n",
              "    age  previous_year_rating  length_of_service  awards_won?  \\\n",
              "0  35.0                   5.0                8.0          0.0   \n",
              "1  30.0                   5.0                4.0          0.0   \n",
              "2  34.0                   3.0                7.0          0.0   \n",
              "3  39.0                   1.0               10.0          0.0   \n",
              "4  45.0                   3.0                2.0          0.0   \n",
              "\n",
              "   avg_training_score  satisfaction_score  engagement_score  is_promoted  \\\n",
              "0                49.0                 5.0              0.88          0.0   \n",
              "1                60.0                 1.0              0.31          0.0   \n",
              "2                50.0                 5.0              3.10          0.0   \n",
              "3                50.0                 4.0              0.64          0.0   \n",
              "4                73.0                 2.0              0.95          0.0   \n",
              "\n",
              "   job_level_junior  job_level_middle  job_level_senior  \\\n",
              "0                 0                 0                 1   \n",
              "1                 0                 1                 0   \n",
              "2                 0                 1                 0   \n",
              "3                 0                 0                 1   \n",
              "4                 0                 0                 1   \n",
              "\n",
              "   recruitment_channel_other  recruitment_channel_referred  \\\n",
              "0                          0                             0   \n",
              "1                          1                             0   \n",
              "2                          0                             0   \n",
              "3                          1                             0   \n",
              "4                          1                             0   \n",
              "\n",
              "   recruitment_channel_sourcing  \n",
              "0                             1  \n",
              "1                             0  \n",
              "2                             1  \n",
              "3                             0  \n",
              "4                             0  "
            ]
          },
          "metadata": {},
          "execution_count": 22
        }
      ]
    },
    {
      "cell_type": "code",
      "metadata": {
        "id": "rwzxyvQ5W7Iw",
        "colab": {
          "base_uri": "https://localhost:8080/",
          "height": 270
        },
        "outputId": "a197028c-69e5-4a44-9bec-9250ef8ac461"
      },
      "source": [
        "del df_enc['department']\n",
        "del df_enc['region']\n",
        "del df_enc['education']\n",
        "df_enc.head()"
      ],
      "execution_count": null,
      "outputs": [
        {
          "output_type": "execute_result",
          "data": {
            "text/html": [
              "\n",
              "  <div id=\"df-394ac18e-abb0-4a31-90a6-1dba53fc26d8\">\n",
              "    <div class=\"colab-df-container\">\n",
              "      <div>\n",
              "<style scoped>\n",
              "    .dataframe tbody tr th:only-of-type {\n",
              "        vertical-align: middle;\n",
              "    }\n",
              "\n",
              "    .dataframe tbody tr th {\n",
              "        vertical-align: top;\n",
              "    }\n",
              "\n",
              "    .dataframe thead th {\n",
              "        text-align: right;\n",
              "    }\n",
              "</style>\n",
              "<table border=\"1\" class=\"dataframe\">\n",
              "  <thead>\n",
              "    <tr style=\"text-align: right;\">\n",
              "      <th></th>\n",
              "      <th>gender</th>\n",
              "      <th>no_of_trainings</th>\n",
              "      <th>age</th>\n",
              "      <th>previous_year_rating</th>\n",
              "      <th>length_of_service</th>\n",
              "      <th>awards_won?</th>\n",
              "      <th>avg_training_score</th>\n",
              "      <th>satisfaction_score</th>\n",
              "      <th>engagement_score</th>\n",
              "      <th>is_promoted</th>\n",
              "      <th>job_level_junior</th>\n",
              "      <th>job_level_middle</th>\n",
              "      <th>job_level_senior</th>\n",
              "      <th>recruitment_channel_other</th>\n",
              "      <th>recruitment_channel_referred</th>\n",
              "      <th>recruitment_channel_sourcing</th>\n",
              "    </tr>\n",
              "  </thead>\n",
              "  <tbody>\n",
              "    <tr>\n",
              "      <th>0</th>\n",
              "      <td>0</td>\n",
              "      <td>1.0</td>\n",
              "      <td>35.0</td>\n",
              "      <td>5.0</td>\n",
              "      <td>8.0</td>\n",
              "      <td>0.0</td>\n",
              "      <td>49.0</td>\n",
              "      <td>5.0</td>\n",
              "      <td>0.88</td>\n",
              "      <td>0.0</td>\n",
              "      <td>0</td>\n",
              "      <td>0</td>\n",
              "      <td>1</td>\n",
              "      <td>0</td>\n",
              "      <td>0</td>\n",
              "      <td>1</td>\n",
              "    </tr>\n",
              "    <tr>\n",
              "      <th>1</th>\n",
              "      <td>1</td>\n",
              "      <td>1.0</td>\n",
              "      <td>30.0</td>\n",
              "      <td>5.0</td>\n",
              "      <td>4.0</td>\n",
              "      <td>0.0</td>\n",
              "      <td>60.0</td>\n",
              "      <td>1.0</td>\n",
              "      <td>0.31</td>\n",
              "      <td>0.0</td>\n",
              "      <td>0</td>\n",
              "      <td>1</td>\n",
              "      <td>0</td>\n",
              "      <td>1</td>\n",
              "      <td>0</td>\n",
              "      <td>0</td>\n",
              "    </tr>\n",
              "    <tr>\n",
              "      <th>2</th>\n",
              "      <td>1</td>\n",
              "      <td>1.0</td>\n",
              "      <td>34.0</td>\n",
              "      <td>3.0</td>\n",
              "      <td>7.0</td>\n",
              "      <td>0.0</td>\n",
              "      <td>50.0</td>\n",
              "      <td>5.0</td>\n",
              "      <td>3.10</td>\n",
              "      <td>0.0</td>\n",
              "      <td>0</td>\n",
              "      <td>1</td>\n",
              "      <td>0</td>\n",
              "      <td>0</td>\n",
              "      <td>0</td>\n",
              "      <td>1</td>\n",
              "    </tr>\n",
              "    <tr>\n",
              "      <th>3</th>\n",
              "      <td>1</td>\n",
              "      <td>2.0</td>\n",
              "      <td>39.0</td>\n",
              "      <td>1.0</td>\n",
              "      <td>10.0</td>\n",
              "      <td>0.0</td>\n",
              "      <td>50.0</td>\n",
              "      <td>4.0</td>\n",
              "      <td>0.64</td>\n",
              "      <td>0.0</td>\n",
              "      <td>0</td>\n",
              "      <td>0</td>\n",
              "      <td>1</td>\n",
              "      <td>1</td>\n",
              "      <td>0</td>\n",
              "      <td>0</td>\n",
              "    </tr>\n",
              "    <tr>\n",
              "      <th>4</th>\n",
              "      <td>1</td>\n",
              "      <td>1.0</td>\n",
              "      <td>45.0</td>\n",
              "      <td>3.0</td>\n",
              "      <td>2.0</td>\n",
              "      <td>0.0</td>\n",
              "      <td>73.0</td>\n",
              "      <td>2.0</td>\n",
              "      <td>0.95</td>\n",
              "      <td>0.0</td>\n",
              "      <td>0</td>\n",
              "      <td>0</td>\n",
              "      <td>1</td>\n",
              "      <td>1</td>\n",
              "      <td>0</td>\n",
              "      <td>0</td>\n",
              "    </tr>\n",
              "  </tbody>\n",
              "</table>\n",
              "</div>\n",
              "      <button class=\"colab-df-convert\" onclick=\"convertToInteractive('df-394ac18e-abb0-4a31-90a6-1dba53fc26d8')\"\n",
              "              title=\"Convert this dataframe to an interactive table.\"\n",
              "              style=\"display:none;\">\n",
              "        \n",
              "  <svg xmlns=\"http://www.w3.org/2000/svg\" height=\"24px\"viewBox=\"0 0 24 24\"\n",
              "       width=\"24px\">\n",
              "    <path d=\"M0 0h24v24H0V0z\" fill=\"none\"/>\n",
              "    <path d=\"M18.56 5.44l.94 2.06.94-2.06 2.06-.94-2.06-.94-.94-2.06-.94 2.06-2.06.94zm-11 1L8.5 8.5l.94-2.06 2.06-.94-2.06-.94L8.5 2.5l-.94 2.06-2.06.94zm10 10l.94 2.06.94-2.06 2.06-.94-2.06-.94-.94-2.06-.94 2.06-2.06.94z\"/><path d=\"M17.41 7.96l-1.37-1.37c-.4-.4-.92-.59-1.43-.59-.52 0-1.04.2-1.43.59L10.3 9.45l-7.72 7.72c-.78.78-.78 2.05 0 2.83L4 21.41c.39.39.9.59 1.41.59.51 0 1.02-.2 1.41-.59l7.78-7.78 2.81-2.81c.8-.78.8-2.07 0-2.86zM5.41 20L4 18.59l7.72-7.72 1.47 1.35L5.41 20z\"/>\n",
              "  </svg>\n",
              "      </button>\n",
              "      \n",
              "  <style>\n",
              "    .colab-df-container {\n",
              "      display:flex;\n",
              "      flex-wrap:wrap;\n",
              "      gap: 12px;\n",
              "    }\n",
              "\n",
              "    .colab-df-convert {\n",
              "      background-color: #E8F0FE;\n",
              "      border: none;\n",
              "      border-radius: 50%;\n",
              "      cursor: pointer;\n",
              "      display: none;\n",
              "      fill: #1967D2;\n",
              "      height: 32px;\n",
              "      padding: 0 0 0 0;\n",
              "      width: 32px;\n",
              "    }\n",
              "\n",
              "    .colab-df-convert:hover {\n",
              "      background-color: #E2EBFA;\n",
              "      box-shadow: 0px 1px 2px rgba(60, 64, 67, 0.3), 0px 1px 3px 1px rgba(60, 64, 67, 0.15);\n",
              "      fill: #174EA6;\n",
              "    }\n",
              "\n",
              "    [theme=dark] .colab-df-convert {\n",
              "      background-color: #3B4455;\n",
              "      fill: #D2E3FC;\n",
              "    }\n",
              "\n",
              "    [theme=dark] .colab-df-convert:hover {\n",
              "      background-color: #434B5C;\n",
              "      box-shadow: 0px 1px 3px 1px rgba(0, 0, 0, 0.15);\n",
              "      filter: drop-shadow(0px 1px 2px rgba(0, 0, 0, 0.3));\n",
              "      fill: #FFFFFF;\n",
              "    }\n",
              "  </style>\n",
              "\n",
              "      <script>\n",
              "        const buttonEl =\n",
              "          document.querySelector('#df-394ac18e-abb0-4a31-90a6-1dba53fc26d8 button.colab-df-convert');\n",
              "        buttonEl.style.display =\n",
              "          google.colab.kernel.accessAllowed ? 'block' : 'none';\n",
              "\n",
              "        async function convertToInteractive(key) {\n",
              "          const element = document.querySelector('#df-394ac18e-abb0-4a31-90a6-1dba53fc26d8');\n",
              "          const dataTable =\n",
              "            await google.colab.kernel.invokeFunction('convertToInteractive',\n",
              "                                                     [key], {});\n",
              "          if (!dataTable) return;\n",
              "\n",
              "          const docLinkHtml = 'Like what you see? Visit the ' +\n",
              "            '<a target=\"_blank\" href=https://colab.research.google.com/notebooks/data_table.ipynb>data table notebook</a>'\n",
              "            + ' to learn more about interactive tables.';\n",
              "          element.innerHTML = '';\n",
              "          dataTable['output_type'] = 'display_data';\n",
              "          await google.colab.output.renderOutput(dataTable, element);\n",
              "          const docLink = document.createElement('div');\n",
              "          docLink.innerHTML = docLinkHtml;\n",
              "          element.appendChild(docLink);\n",
              "        }\n",
              "      </script>\n",
              "    </div>\n",
              "  </div>\n",
              "  "
            ],
            "text/plain": [
              "   gender  no_of_trainings   age  previous_year_rating  length_of_service  \\\n",
              "0       0              1.0  35.0                   5.0                8.0   \n",
              "1       1              1.0  30.0                   5.0                4.0   \n",
              "2       1              1.0  34.0                   3.0                7.0   \n",
              "3       1              2.0  39.0                   1.0               10.0   \n",
              "4       1              1.0  45.0                   3.0                2.0   \n",
              "\n",
              "   awards_won?  avg_training_score  satisfaction_score  engagement_score  \\\n",
              "0          0.0                49.0                 5.0              0.88   \n",
              "1          0.0                60.0                 1.0              0.31   \n",
              "2          0.0                50.0                 5.0              3.10   \n",
              "3          0.0                50.0                 4.0              0.64   \n",
              "4          0.0                73.0                 2.0              0.95   \n",
              "\n",
              "   is_promoted  job_level_junior  job_level_middle  job_level_senior  \\\n",
              "0          0.0                 0                 0                 1   \n",
              "1          0.0                 0                 1                 0   \n",
              "2          0.0                 0                 1                 0   \n",
              "3          0.0                 0                 0                 1   \n",
              "4          0.0                 0                 0                 1   \n",
              "\n",
              "   recruitment_channel_other  recruitment_channel_referred  \\\n",
              "0                          0                             0   \n",
              "1                          1                             0   \n",
              "2                          0                             0   \n",
              "3                          1                             0   \n",
              "4                          1                             0   \n",
              "\n",
              "   recruitment_channel_sourcing  \n",
              "0                             1  \n",
              "1                             0  \n",
              "2                             1  \n",
              "3                             0  \n",
              "4                             0  "
            ]
          },
          "metadata": {},
          "execution_count": 23
        }
      ]
    },
    {
      "cell_type": "markdown",
      "metadata": {
        "id": "tXQaoRk2XoxR"
      },
      "source": [
        "**3. Chi-Square**"
      ]
    },
    {
      "cell_type": "code",
      "metadata": {
        "id": "Y96Q0hD_Xrr5",
        "colab": {
          "base_uri": "https://localhost:8080/",
          "height": 520
        },
        "outputId": "a57f6d3f-65f5-43b6-9068-2cba3dd7d92a"
      },
      "source": [
        "def getCaqVal(ft):\n",
        "    df_cross = pd.crosstab(df_enc['is_promoted'], df_enc[ft])\n",
        "    c_sq, p_val, df, data = stats.chi2_contingency(df_cross)\n",
        "    return c_sq, p_val\n",
        "\n",
        "chi = pd.DataFrame(columns=['variable', 'chisquare', 'pvalue'])\n",
        "for n, a in enumerate([a for a in df_enc.columns if a != 'is_promoted']):\n",
        "    chisq, pval = getCaqVal(a)\n",
        "    pdData = [a, chisq, pval]\n",
        "    chi.loc[n] = (a, chisq, pval)\n",
        "\n",
        "chi['Kesimpulan'] = np.where(chi.pvalue < 0.05, 'Berpengaruh Signifikan', 'Tidak Berpengaruh Signifikan')\n",
        "chi"
      ],
      "execution_count": null,
      "outputs": [
        {
          "output_type": "execute_result",
          "data": {
            "text/html": [
              "\n",
              "  <div id=\"df-444cecdf-4080-4e40-9ea2-4b4c10868601\">\n",
              "    <div class=\"colab-df-container\">\n",
              "      <div>\n",
              "<style scoped>\n",
              "    .dataframe tbody tr th:only-of-type {\n",
              "        vertical-align: middle;\n",
              "    }\n",
              "\n",
              "    .dataframe tbody tr th {\n",
              "        vertical-align: top;\n",
              "    }\n",
              "\n",
              "    .dataframe thead th {\n",
              "        text-align: right;\n",
              "    }\n",
              "</style>\n",
              "<table border=\"1\" class=\"dataframe\">\n",
              "  <thead>\n",
              "    <tr style=\"text-align: right;\">\n",
              "      <th></th>\n",
              "      <th>variable</th>\n",
              "      <th>chisquare</th>\n",
              "      <th>pvalue</th>\n",
              "      <th>Kesimpulan</th>\n",
              "    </tr>\n",
              "  </thead>\n",
              "  <tbody>\n",
              "    <tr>\n",
              "      <th>0</th>\n",
              "      <td>gender</td>\n",
              "      <td>0.014486</td>\n",
              "      <td>9.041989e-01</td>\n",
              "      <td>Tidak Berpengaruh Signifikan</td>\n",
              "    </tr>\n",
              "    <tr>\n",
              "      <th>1</th>\n",
              "      <td>no_of_trainings</td>\n",
              "      <td>2.400412</td>\n",
              "      <td>9.834428e-01</td>\n",
              "      <td>Tidak Berpengaruh Signifikan</td>\n",
              "    </tr>\n",
              "    <tr>\n",
              "      <th>2</th>\n",
              "      <td>age</td>\n",
              "      <td>45.202506</td>\n",
              "      <td>2.636782e-01</td>\n",
              "      <td>Tidak Berpengaruh Signifikan</td>\n",
              "    </tr>\n",
              "    <tr>\n",
              "      <th>3</th>\n",
              "      <td>previous_year_rating</td>\n",
              "      <td>64.091551</td>\n",
              "      <td>1.729346e-12</td>\n",
              "      <td>Berpengaruh Signifikan</td>\n",
              "    </tr>\n",
              "    <tr>\n",
              "      <th>4</th>\n",
              "      <td>length_of_service</td>\n",
              "      <td>188.111239</td>\n",
              "      <td>1.263599e-23</td>\n",
              "      <td>Berpengaruh Signifikan</td>\n",
              "    </tr>\n",
              "    <tr>\n",
              "      <th>5</th>\n",
              "      <td>awards_won?</td>\n",
              "      <td>67.834822</td>\n",
              "      <td>1.777819e-16</td>\n",
              "      <td>Berpengaruh Signifikan</td>\n",
              "    </tr>\n",
              "    <tr>\n",
              "      <th>6</th>\n",
              "      <td>avg_training_score</td>\n",
              "      <td>330.471825</td>\n",
              "      <td>5.018704e-39</td>\n",
              "      <td>Berpengaruh Signifikan</td>\n",
              "    </tr>\n",
              "    <tr>\n",
              "      <th>7</th>\n",
              "      <td>satisfaction_score</td>\n",
              "      <td>112.051734</td>\n",
              "      <td>2.656728e-23</td>\n",
              "      <td>Berpengaruh Signifikan</td>\n",
              "    </tr>\n",
              "    <tr>\n",
              "      <th>8</th>\n",
              "      <td>engagement_score</td>\n",
              "      <td>2507.503792</td>\n",
              "      <td>8.740947e-264</td>\n",
              "      <td>Berpengaruh Signifikan</td>\n",
              "    </tr>\n",
              "    <tr>\n",
              "      <th>9</th>\n",
              "      <td>job_level_junior</td>\n",
              "      <td>5.495351</td>\n",
              "      <td>1.906710e-02</td>\n",
              "      <td>Berpengaruh Signifikan</td>\n",
              "    </tr>\n",
              "    <tr>\n",
              "      <th>10</th>\n",
              "      <td>job_level_middle</td>\n",
              "      <td>4.596372</td>\n",
              "      <td>3.203969e-02</td>\n",
              "      <td>Berpengaruh Signifikan</td>\n",
              "    </tr>\n",
              "    <tr>\n",
              "      <th>11</th>\n",
              "      <td>job_level_senior</td>\n",
              "      <td>0.590648</td>\n",
              "      <td>4.421688e-01</td>\n",
              "      <td>Tidak Berpengaruh Signifikan</td>\n",
              "    </tr>\n",
              "    <tr>\n",
              "      <th>12</th>\n",
              "      <td>recruitment_channel_other</td>\n",
              "      <td>0.020653</td>\n",
              "      <td>8.857277e-01</td>\n",
              "      <td>Tidak Berpengaruh Signifikan</td>\n",
              "    </tr>\n",
              "    <tr>\n",
              "      <th>13</th>\n",
              "      <td>recruitment_channel_referred</td>\n",
              "      <td>1.312449</td>\n",
              "      <td>2.519518e-01</td>\n",
              "      <td>Tidak Berpengaruh Signifikan</td>\n",
              "    </tr>\n",
              "    <tr>\n",
              "      <th>14</th>\n",
              "      <td>recruitment_channel_sourcing</td>\n",
              "      <td>0.308200</td>\n",
              "      <td>5.787870e-01</td>\n",
              "      <td>Tidak Berpengaruh Signifikan</td>\n",
              "    </tr>\n",
              "  </tbody>\n",
              "</table>\n",
              "</div>\n",
              "      <button class=\"colab-df-convert\" onclick=\"convertToInteractive('df-444cecdf-4080-4e40-9ea2-4b4c10868601')\"\n",
              "              title=\"Convert this dataframe to an interactive table.\"\n",
              "              style=\"display:none;\">\n",
              "        \n",
              "  <svg xmlns=\"http://www.w3.org/2000/svg\" height=\"24px\"viewBox=\"0 0 24 24\"\n",
              "       width=\"24px\">\n",
              "    <path d=\"M0 0h24v24H0V0z\" fill=\"none\"/>\n",
              "    <path d=\"M18.56 5.44l.94 2.06.94-2.06 2.06-.94-2.06-.94-.94-2.06-.94 2.06-2.06.94zm-11 1L8.5 8.5l.94-2.06 2.06-.94-2.06-.94L8.5 2.5l-.94 2.06-2.06.94zm10 10l.94 2.06.94-2.06 2.06-.94-2.06-.94-.94-2.06-.94 2.06-2.06.94z\"/><path d=\"M17.41 7.96l-1.37-1.37c-.4-.4-.92-.59-1.43-.59-.52 0-1.04.2-1.43.59L10.3 9.45l-7.72 7.72c-.78.78-.78 2.05 0 2.83L4 21.41c.39.39.9.59 1.41.59.51 0 1.02-.2 1.41-.59l7.78-7.78 2.81-2.81c.8-.78.8-2.07 0-2.86zM5.41 20L4 18.59l7.72-7.72 1.47 1.35L5.41 20z\"/>\n",
              "  </svg>\n",
              "      </button>\n",
              "      \n",
              "  <style>\n",
              "    .colab-df-container {\n",
              "      display:flex;\n",
              "      flex-wrap:wrap;\n",
              "      gap: 12px;\n",
              "    }\n",
              "\n",
              "    .colab-df-convert {\n",
              "      background-color: #E8F0FE;\n",
              "      border: none;\n",
              "      border-radius: 50%;\n",
              "      cursor: pointer;\n",
              "      display: none;\n",
              "      fill: #1967D2;\n",
              "      height: 32px;\n",
              "      padding: 0 0 0 0;\n",
              "      width: 32px;\n",
              "    }\n",
              "\n",
              "    .colab-df-convert:hover {\n",
              "      background-color: #E2EBFA;\n",
              "      box-shadow: 0px 1px 2px rgba(60, 64, 67, 0.3), 0px 1px 3px 1px rgba(60, 64, 67, 0.15);\n",
              "      fill: #174EA6;\n",
              "    }\n",
              "\n",
              "    [theme=dark] .colab-df-convert {\n",
              "      background-color: #3B4455;\n",
              "      fill: #D2E3FC;\n",
              "    }\n",
              "\n",
              "    [theme=dark] .colab-df-convert:hover {\n",
              "      background-color: #434B5C;\n",
              "      box-shadow: 0px 1px 3px 1px rgba(0, 0, 0, 0.15);\n",
              "      filter: drop-shadow(0px 1px 2px rgba(0, 0, 0, 0.3));\n",
              "      fill: #FFFFFF;\n",
              "    }\n",
              "  </style>\n",
              "\n",
              "      <script>\n",
              "        const buttonEl =\n",
              "          document.querySelector('#df-444cecdf-4080-4e40-9ea2-4b4c10868601 button.colab-df-convert');\n",
              "        buttonEl.style.display =\n",
              "          google.colab.kernel.accessAllowed ? 'block' : 'none';\n",
              "\n",
              "        async function convertToInteractive(key) {\n",
              "          const element = document.querySelector('#df-444cecdf-4080-4e40-9ea2-4b4c10868601');\n",
              "          const dataTable =\n",
              "            await google.colab.kernel.invokeFunction('convertToInteractive',\n",
              "                                                     [key], {});\n",
              "          if (!dataTable) return;\n",
              "\n",
              "          const docLinkHtml = 'Like what you see? Visit the ' +\n",
              "            '<a target=\"_blank\" href=https://colab.research.google.com/notebooks/data_table.ipynb>data table notebook</a>'\n",
              "            + ' to learn more about interactive tables.';\n",
              "          element.innerHTML = '';\n",
              "          dataTable['output_type'] = 'display_data';\n",
              "          await google.colab.output.renderOutput(dataTable, element);\n",
              "          const docLink = document.createElement('div');\n",
              "          docLink.innerHTML = docLinkHtml;\n",
              "          element.appendChild(docLink);\n",
              "        }\n",
              "      </script>\n",
              "    </div>\n",
              "  </div>\n",
              "  "
            ],
            "text/plain": [
              "                        variable    chisquare         pvalue  \\\n",
              "0                         gender     0.014486   9.041989e-01   \n",
              "1                no_of_trainings     2.400412   9.834428e-01   \n",
              "2                            age    45.202506   2.636782e-01   \n",
              "3           previous_year_rating    64.091551   1.729346e-12   \n",
              "4              length_of_service   188.111239   1.263599e-23   \n",
              "5                    awards_won?    67.834822   1.777819e-16   \n",
              "6             avg_training_score   330.471825   5.018704e-39   \n",
              "7             satisfaction_score   112.051734   2.656728e-23   \n",
              "8               engagement_score  2507.503792  8.740947e-264   \n",
              "9               job_level_junior     5.495351   1.906710e-02   \n",
              "10              job_level_middle     4.596372   3.203969e-02   \n",
              "11              job_level_senior     0.590648   4.421688e-01   \n",
              "12     recruitment_channel_other     0.020653   8.857277e-01   \n",
              "13  recruitment_channel_referred     1.312449   2.519518e-01   \n",
              "14  recruitment_channel_sourcing     0.308200   5.787870e-01   \n",
              "\n",
              "                      Kesimpulan  \n",
              "0   Tidak Berpengaruh Signifikan  \n",
              "1   Tidak Berpengaruh Signifikan  \n",
              "2   Tidak Berpengaruh Signifikan  \n",
              "3         Berpengaruh Signifikan  \n",
              "4         Berpengaruh Signifikan  \n",
              "5         Berpengaruh Signifikan  \n",
              "6         Berpengaruh Signifikan  \n",
              "7         Berpengaruh Signifikan  \n",
              "8         Berpengaruh Signifikan  \n",
              "9         Berpengaruh Signifikan  \n",
              "10        Berpengaruh Signifikan  \n",
              "11  Tidak Berpengaruh Signifikan  \n",
              "12  Tidak Berpengaruh Signifikan  \n",
              "13  Tidak Berpengaruh Signifikan  \n",
              "14  Tidak Berpengaruh Signifikan  "
            ]
          },
          "metadata": {},
          "execution_count": 24
        }
      ]
    },
    {
      "cell_type": "markdown",
      "metadata": {
        "id": "oxcJ_MOuhVdb"
      },
      "source": [
        "**4. FIX ASSUMTION**"
      ]
    },
    {
      "cell_type": "code",
      "metadata": {
        "id": "RLfYsvDMYOcY"
      },
      "source": [
        "fs = ['previous_year_rating', 'length_of_service','awards_won?', 'avg_training_score','satisfaction_score', 'engagement_score', 'is_promoted']"
      ],
      "execution_count": null,
      "outputs": []
    },
    {
      "cell_type": "code",
      "metadata": {
        "id": "ynMkqPQ9YjFr"
      },
      "source": [
        "df_fs = df_enc[fs]"
      ],
      "execution_count": null,
      "outputs": []
    },
    {
      "cell_type": "code",
      "metadata": {
        "id": "Ong2Cd4GYpmj",
        "colab": {
          "base_uri": "https://localhost:8080/"
        },
        "outputId": "b64ea10e-cc06-49d8-9d48-2a535023c2e9"
      },
      "source": [
        "# Dealing with data that are not normally distributed\n",
        "int_fs = ['length_of_service', 'avg_training_score','engagement_score']\n",
        "df_fsn = df_fs.copy()\n",
        "df_fs_log = df_fs.copy()\n",
        "df_fs_recipro = df_fs.copy()\n",
        "df_fs_sqrt = df_fs.copy()\n",
        "\n",
        "for var in int_fs:\n",
        "    print('Original Skewness', var, ':', df_fsn[var].skew(skipna = True))\n",
        "    df_fs_log[var] = df_fs[var].map(lambda x: np.log(x))\n",
        "    print('Log Transformation Skewness Result =', var, ':', df_fs_log[var].skew(skipna = True))\n",
        "    df_fs_recipro[var] = df_fs[var].map(lambda x: np.reciprocal(x))\n",
        "    print('Reciprocal Transformation Skewness Result =', var, ':', df_fs_recipro[var].skew(skipna = True))\n",
        "    df_fs_sqrt[var] = df_fs[var].map(lambda x: np.sqrt(x))\n",
        "    print('Square Root Transformation Skewness Result =', var, ':', df_fs_sqrt[var].skew(skipna = True))\n",
        "    print('---------------------------------------------------------------------------------------------------')"
      ],
      "execution_count": null,
      "outputs": [
        {
          "output_type": "stream",
          "name": "stdout",
          "text": [
            "Original Skewness length_of_service : 1.7389935185983445\n",
            "Log Transformation Skewness Result = length_of_service : -0.2951621783163894\n",
            "Reciprocal Transformation Skewness Result = length_of_service : 1.886778195421121\n",
            "Square Root Transformation Skewness Result = length_of_service : 0.6647568340758389\n",
            "---------------------------------------------------------------------------------------------------\n",
            "Original Skewness avg_training_score : 0.42568823563488717\n",
            "Log Transformation Skewness Result = avg_training_score : 0.19372475336653033\n",
            "Reciprocal Transformation Skewness Result = avg_training_score : 0.04356060067900029\n",
            "Square Root Transformation Skewness Result = avg_training_score : 0.31038394360165966\n",
            "---------------------------------------------------------------------------------------------------\n",
            "Original Skewness engagement_score : 0.8802018730636343\n",
            "Log Transformation Skewness Result = engagement_score : nan\n",
            "Reciprocal Transformation Skewness Result = engagement_score : nan\n",
            "Square Root Transformation Skewness Result = engagement_score : 0.14402542330678875\n",
            "---------------------------------------------------------------------------------------------------\n"
          ]
        },
        {
          "output_type": "stream",
          "name": "stderr",
          "text": [
            "/usr/local/lib/python3.7/dist-packages/ipykernel_launcher.py:10: RuntimeWarning: divide by zero encountered in log\n",
            "  # Remove the CWD from sys.path while we load stuff.\n",
            "/usr/local/lib/python3.7/dist-packages/ipykernel_launcher.py:12: RuntimeWarning: divide by zero encountered in reciprocal\n",
            "  if sys.path[0] == '':\n"
          ]
        }
      ]
    },
    {
      "cell_type": "code",
      "metadata": {
        "id": "dGKDfkFOdNfJ",
        "colab": {
          "base_uri": "https://localhost:8080/"
        },
        "outputId": "fbd8e084-2459-40a9-a18c-faa98a2cd15d"
      },
      "source": [
        "df_fs['length_of_service_trans'] = df_fs['length_of_service'].map(lambda x: np.log(x))\n",
        "df_fs.drop(['length_of_service'], axis = 1, inplace = True)\n",
        "\n",
        "df_fs['avg_training_score_trans'] = df_fs['avg_training_score'].map(lambda x: np.log(x))\n",
        "df_fs.drop(['avg_training_score'], axis = 1, inplace = True)\n",
        "\n",
        "df_fs['engagement_score_trans'] = df_fs['engagement_score'].map(lambda x: np.sqrt(x))\n",
        "df_fs.drop(['engagement_score'], axis = 1, inplace = True)"
      ],
      "execution_count": null,
      "outputs": [
        {
          "output_type": "stream",
          "name": "stderr",
          "text": [
            "/usr/local/lib/python3.7/dist-packages/ipykernel_launcher.py:1: SettingWithCopyWarning: \n",
            "A value is trying to be set on a copy of a slice from a DataFrame.\n",
            "Try using .loc[row_indexer,col_indexer] = value instead\n",
            "\n",
            "See the caveats in the documentation: https://pandas.pydata.org/pandas-docs/stable/user_guide/indexing.html#returning-a-view-versus-a-copy\n",
            "  \"\"\"Entry point for launching an IPython kernel.\n",
            "/usr/local/lib/python3.7/dist-packages/pandas/core/frame.py:4913: SettingWithCopyWarning: \n",
            "A value is trying to be set on a copy of a slice from a DataFrame\n",
            "\n",
            "See the caveats in the documentation: https://pandas.pydata.org/pandas-docs/stable/user_guide/indexing.html#returning-a-view-versus-a-copy\n",
            "  errors=errors,\n",
            "/usr/local/lib/python3.7/dist-packages/ipykernel_launcher.py:4: SettingWithCopyWarning: \n",
            "A value is trying to be set on a copy of a slice from a DataFrame.\n",
            "Try using .loc[row_indexer,col_indexer] = value instead\n",
            "\n",
            "See the caveats in the documentation: https://pandas.pydata.org/pandas-docs/stable/user_guide/indexing.html#returning-a-view-versus-a-copy\n",
            "  after removing the cwd from sys.path.\n",
            "/usr/local/lib/python3.7/dist-packages/ipykernel_launcher.py:7: SettingWithCopyWarning: \n",
            "A value is trying to be set on a copy of a slice from a DataFrame.\n",
            "Try using .loc[row_indexer,col_indexer] = value instead\n",
            "\n",
            "See the caveats in the documentation: https://pandas.pydata.org/pandas-docs/stable/user_guide/indexing.html#returning-a-view-versus-a-copy\n",
            "  import sys\n"
          ]
        }
      ]
    },
    {
      "cell_type": "code",
      "metadata": {
        "id": "ztJ0QS4JfGjV",
        "colab": {
          "base_uri": "https://localhost:8080/"
        },
        "outputId": "934b34ed-36bf-4b44-9acb-96ad036c72c6"
      },
      "source": [
        "df_fs.info()"
      ],
      "execution_count": null,
      "outputs": [
        {
          "output_type": "stream",
          "name": "stdout",
          "text": [
            "<class 'pandas.core.frame.DataFrame'>\n",
            "Int64Index: 24893 entries, 0 to 26072\n",
            "Data columns (total 7 columns):\n",
            " #   Column                    Non-Null Count  Dtype  \n",
            "---  ------                    --------------  -----  \n",
            " 0   previous_year_rating      24893 non-null  float64\n",
            " 1   awards_won?               24893 non-null  float64\n",
            " 2   satisfaction_score        24893 non-null  float64\n",
            " 3   is_promoted               24893 non-null  float64\n",
            " 4   length_of_service_trans   24893 non-null  float64\n",
            " 5   avg_training_score_trans  24893 non-null  float64\n",
            " 6   engagement_score_trans    24893 non-null  float64\n",
            "dtypes: float64(7)\n",
            "memory usage: 1.5 MB\n"
          ]
        }
      ]
    },
    {
      "cell_type": "code",
      "metadata": {
        "id": "1fvHrwgmgCT5",
        "colab": {
          "base_uri": "https://localhost:8080/",
          "height": 983
        },
        "outputId": "df21d756-638f-4d54-f71a-58b1314931b8"
      },
      "source": [
        "integer2 = ['length_of_service_trans', 'avg_training_score_trans','engagement_score_trans']\n",
        "for var in integer2:\n",
        "    plt.figure(figsize=(10,5))\n",
        "    plt.subplot(1,2,1)\n",
        "    fig = df_fs.boxplot(column=var, color = 'green')\n",
        "    fig.set_title('Outliers')\n",
        "    fig.set_ylabel(var)\n",
        "    plt.show()"
      ],
      "execution_count": null,
      "outputs": [
        {
          "output_type": "display_data",
          "data": {
            "image/png": "[encoded data removed]",
            "text/plain": [
              "<Figure size 720x360 with 1 Axes>"
            ]
          },
          "metadata": {}
        },
        {
          "output_type": "display_data",
          "data": {
            "image/png": "[encoded data removed]",
            "text/plain": [
              "<Figure size 720x360 with 1 Axes>"
            ]
          },
          "metadata": {}
        },
        {
          "output_type": "display_data",
          "data": {
            "image/png": "[encoded data removed]",
            "text/plain": [
              "<Figure size 720x360 with 1 Axes>"
            ]
          },
          "metadata": {}
        }
      ]
    },
    {
      "cell_type": "code",
      "metadata": {
        "id": "0wuMYEJtliex",
        "colab": {
          "base_uri": "https://localhost:8080/"
        },
        "outputId": "fec54fe6-ac7d-4cce-fafd-7f6c005333db"
      },
      "source": [
        "df_fs['is_promoted'].value_counts()"
      ],
      "execution_count": null,
      "outputs": [
        {
          "output_type": "execute_result",
          "data": {
            "text/plain": [
              "0.0    24729\n",
              "1.0      164\n",
              "Name: is_promoted, dtype: int64"
            ]
          },
          "metadata": {},
          "execution_count": 31
        }
      ]
    },
    {
      "cell_type": "markdown",
      "metadata": {
        "id": "SL58jj3XhILE"
      },
      "source": [
        "**5. SPLIT TRAIN TEST**"
      ]
    },
    {
      "cell_type": "code",
      "metadata": {
        "id": "mWDwT0-chSNx"
      },
      "source": [
        "from sklearn.model_selection import train_test_split\n",
        "from sklearn.model_selection import StratifiedKFold\n",
        "seed = 42\n",
        "\n",
        "X_train, X_test, y_train, y_test = train_test_split(\n",
        "      df_fs.drop('is_promoted', axis=1),\n",
        "      df_fs['is_promoted'],\n",
        "      test_size = 0.2,\n",
        "      stratify = df_fs['is_promoted'],\n",
        "      shuffle = True,\n",
        "      random_state = seed\n",
        ")"
      ],
      "execution_count": null,
      "outputs": []
    },
    {
      "cell_type": "code",
      "metadata": {
        "id": "YIL6muKdiK2A"
      },
      "source": [
        "# Normalize the variable\n",
        "from sklearn.preprocessing import StandardScaler\n",
        "sc_x = StandardScaler()\n",
        "X_train2 = pd.DataFrame(sc_x.fit_transform(X_train))\n",
        "X_train2.columns = X_train.columns.values\n",
        "X_train2.index = X_train.index.values\n",
        "X_train = X_train2\n",
        "X_test2 = pd.DataFrame(sc_x.transform(X_test))\n",
        "X_test2.columns = X_test.columns.values\n",
        "X_test2.index = X_test.index.values\n",
        "X_test = X_test2"
      ],
      "execution_count": null,
      "outputs": []
    },
    {
      "cell_type": "code",
      "metadata": {
        "id": "Z1GGmwKhjLOs",
        "colab": {
          "base_uri": "https://localhost:8080/"
        },
        "outputId": "65a1eef9-66f8-40f4-e43a-207244940aea"
      },
      "source": [
        "y_train.value_counts()"
      ],
      "execution_count": null,
      "outputs": [
        {
          "output_type": "execute_result",
          "data": {
            "text/plain": [
              "0.0    19783\n",
              "1.0      131\n",
              "Name: is_promoted, dtype: int64"
            ]
          },
          "metadata": {},
          "execution_count": 34
        }
      ]
    },
    {
      "cell_type": "code",
      "metadata": {
        "id": "81WeX6vOm1qZ"
      },
      "source": [
        "#SMOTE for oversampling\n",
        "from imblearn.over_sampling import SMOTE\n",
        "\n",
        "smo = SMOTE(random_state=42)\n",
        "X_train_res, y_train_res = smo.fit_resample(X_train, y_train)\n",
        "X_test_res, y_test_res = smo.fit_resample(X_test, y_test)"
      ],
      "execution_count": null,
      "outputs": []
    },
    {
      "cell_type": "code",
      "metadata": {
        "id": "K6bZsxGtm6oF",
        "colab": {
          "base_uri": "https://localhost:8080/"
        },
        "outputId": "41e8ce49-faec-4bd7-a697-e3696d490db8"
      },
      "source": [
        "#Logistic Regression\n",
        "logreg = LogisticRegression(max_iter=100000, random_state=seed)\n",
        "logreg.fit(X_train_res, y_train_res)\n",
        "y_preds = logreg.predict(X_test_res)\n",
        "test_recall = recall_score(y_test_res, y_preds, average = 'binary')\n",
        "test_recall"
      ],
      "execution_count": null,
      "outputs": [
        {
          "output_type": "execute_result",
          "data": {
            "text/plain": [
              "0.9652244237767893"
            ]
          },
          "metadata": {},
          "execution_count": 36
        }
      ]
    },
    {
      "cell_type": "code",
      "metadata": {
        "id": "BTtrUmlVnKmc",
        "colab": {
          "base_uri": "https://localhost:8080/"
        },
        "outputId": "5eabc534-1d1d-43ad-9033-967795db6ad0"
      },
      "source": [
        "logit_model = sm.Logit(y_train_res, X_train_res)\n",
        "result = logit_model.fit()"
      ],
      "execution_count": null,
      "outputs": [
        {
          "output_type": "stream",
          "name": "stdout",
          "text": [
            "Optimization terminated successfully.\n",
            "         Current function value: 0.469216\n",
            "         Iterations 6\n"
          ]
        }
      ]
    },
    {
      "cell_type": "code",
      "metadata": {
        "id": "XklEbl-MnPy5"
      },
      "source": [
        "yhat = result.predict(X_test_res)\n",
        "prediction = list(map(round, yhat))"
      ],
      "execution_count": null,
      "outputs": []
    },
    {
      "cell_type": "code",
      "metadata": {
        "id": "TnrAfVkQnU2n",
        "colab": {
          "base_uri": "https://localhost:8080/",
          "height": 167
        },
        "outputId": "777f22ce-1926-4803-a637-b8015f05a41b"
      },
      "source": [
        "cm = confusion_matrix(y_test_res, prediction)\n",
        "df_confMat = pd.DataFrame(cm, columns=['predicted_not_promoted','predicted_promoted'], index=['not_promoted', 'promoted'])\n",
        "\n",
        "print('Precision = {}'.format(cm[1][1]/(cm[1][1]+cm[0][1])))\n",
        "print('Recall = {}'.format(cm[1][1]/(cm[1][1]+cm[1][0])))\n",
        "print('Accuracy = {}'.format(cm[1][1]/(sum(sum(cm)))))\n",
        "df_confMat"
      ],
      "execution_count": null,
      "outputs": [
        {
          "output_type": "stream",
          "name": "stdout",
          "text": [
            "Precision = 0.676144907723855\n",
            "Recall = 1.0\n",
            "Accuracy = 0.5\n"
          ]
        },
        {
          "output_type": "execute_result",
          "data": {
            "text/html": [
              "\n",
              "  <div id=\"df-61aa1510-36e0-4135-868c-7dbc699f0b86\">\n",
              "    <div class=\"colab-df-container\">\n",
              "      <div>\n",
              "<style scoped>\n",
              "    .dataframe tbody tr th:only-of-type {\n",
              "        vertical-align: middle;\n",
              "    }\n",
              "\n",
              "    .dataframe tbody tr th {\n",
              "        vertical-align: top;\n",
              "    }\n",
              "\n",
              "    .dataframe thead th {\n",
              "        text-align: right;\n",
              "    }\n",
              "</style>\n",
              "<table border=\"1\" class=\"dataframe\">\n",
              "  <thead>\n",
              "    <tr style=\"text-align: right;\">\n",
              "      <th></th>\n",
              "      <th>predicted_not_promoted</th>\n",
              "      <th>predicted_promoted</th>\n",
              "    </tr>\n",
              "  </thead>\n",
              "  <tbody>\n",
              "    <tr>\n",
              "      <th>not_promoted</th>\n",
              "      <td>2577</td>\n",
              "      <td>2369</td>\n",
              "    </tr>\n",
              "    <tr>\n",
              "      <th>promoted</th>\n",
              "      <td>0</td>\n",
              "      <td>4946</td>\n",
              "    </tr>\n",
              "  </tbody>\n",
              "</table>\n",
              "</div>\n",
              "      <button class=\"colab-df-convert\" onclick=\"convertToInteractive('df-61aa1510-36e0-4135-868c-7dbc699f0b86')\"\n",
              "              title=\"Convert this dataframe to an interactive table.\"\n",
              "              style=\"display:none;\">\n",
              "        \n",
              "  <svg xmlns=\"http://www.w3.org/2000/svg\" height=\"24px\"viewBox=\"0 0 24 24\"\n",
              "       width=\"24px\">\n",
              "    <path d=\"M0 0h24v24H0V0z\" fill=\"none\"/>\n",
              "    <path d=\"M18.56 5.44l.94 2.06.94-2.06 2.06-.94-2.06-.94-.94-2.06-.94 2.06-2.06.94zm-11 1L8.5 8.5l.94-2.06 2.06-.94-2.06-.94L8.5 2.5l-.94 2.06-2.06.94zm10 10l.94 2.06.94-2.06 2.06-.94-2.06-.94-.94-2.06-.94 2.06-2.06.94z\"/><path d=\"M17.41 7.96l-1.37-1.37c-.4-.4-.92-.59-1.43-.59-.52 0-1.04.2-1.43.59L10.3 9.45l-7.72 7.72c-.78.78-.78 2.05 0 2.83L4 21.41c.39.39.9.59 1.41.59.51 0 1.02-.2 1.41-.59l7.78-7.78 2.81-2.81c.8-.78.8-2.07 0-2.86zM5.41 20L4 18.59l7.72-7.72 1.47 1.35L5.41 20z\"/>\n",
              "  </svg>\n",
              "      </button>\n",
              "      \n",
              "  <style>\n",
              "    .colab-df-container {\n",
              "      display:flex;\n",
              "      flex-wrap:wrap;\n",
              "      gap: 12px;\n",
              "    }\n",
              "\n",
              "    .colab-df-convert {\n",
              "      background-color: #E8F0FE;\n",
              "      border: none;\n",
              "      border-radius: 50%;\n",
              "      cursor: pointer;\n",
              "      display: none;\n",
              "      fill: #1967D2;\n",
              "      height: 32px;\n",
              "      padding: 0 0 0 0;\n",
              "      width: 32px;\n",
              "    }\n",
              "\n",
              "    .colab-df-convert:hover {\n",
              "      background-color: #E2EBFA;\n",
              "      box-shadow: 0px 1px 2px rgba(60, 64, 67, 0.3), 0px 1px 3px 1px rgba(60, 64, 67, 0.15);\n",
              "      fill: #174EA6;\n",
              "    }\n",
              "\n",
              "    [theme=dark] .colab-df-convert {\n",
              "      background-color: #3B4455;\n",
              "      fill: #D2E3FC;\n",
              "    }\n",
              "\n",
              "    [theme=dark] .colab-df-convert:hover {\n",
              "      background-color: #434B5C;\n",
              "      box-shadow: 0px 1px 3px 1px rgba(0, 0, 0, 0.15);\n",
              "      filter: drop-shadow(0px 1px 2px rgba(0, 0, 0, 0.3));\n",
              "      fill: #FFFFFF;\n",
              "    }\n",
              "  </style>\n",
              "\n",
              "      <script>\n",
              "        const buttonEl =\n",
              "          document.querySelector('#df-61aa1510-36e0-4135-868c-7dbc699f0b86 button.colab-df-convert');\n",
              "        buttonEl.style.display =\n",
              "          google.colab.kernel.accessAllowed ? 'block' : 'none';\n",
              "\n",
              "        async function convertToInteractive(key) {\n",
              "          const element = document.querySelector('#df-61aa1510-36e0-4135-868c-7dbc699f0b86');\n",
              "          const dataTable =\n",
              "            await google.colab.kernel.invokeFunction('convertToInteractive',\n",
              "                                                     [key], {});\n",
              "          if (!dataTable) return;\n",
              "\n",
              "          const docLinkHtml = 'Like what you see? Visit the ' +\n",
              "            '<a target=\"_blank\" href=https://colab.research.google.com/notebooks/data_table.ipynb>data table notebook</a>'\n",
              "            + ' to learn more about interactive tables.';\n",
              "          element.innerHTML = '';\n",
              "          dataTable['output_type'] = 'display_data';\n",
              "          await google.colab.output.renderOutput(dataTable, element);\n",
              "          const docLink = document.createElement('div');\n",
              "          docLink.innerHTML = docLinkHtml;\n",
              "          element.appendChild(docLink);\n",
              "        }\n",
              "      </script>\n",
              "    </div>\n",
              "  </div>\n",
              "  "
            ],
            "text/plain": [
              "              predicted_not_promoted  predicted_promoted\n",
              "not_promoted                    2577                2369\n",
              "promoted                           0                4946"
            ]
          },
          "metadata": {},
          "execution_count": 39
        }
      ]
    },
    {
      "cell_type": "code",
      "metadata": {
        "id": "zgI9vDXRbokx",
        "colab": {
          "base_uri": "https://localhost:8080/",
          "height": 167
        },
        "outputId": "a3e39cd4-168f-433a-cf2d-6b2b9ef8c3dd"
      },
      "source": [
        "#Decission Tree\n",
        "clf = DecisionTreeClassifier()\n",
        "clf_res = clf.fit(X_train_res, y_train_res)\n",
        "yhat_dt = clf_res.predict(X_test_res)\n",
        "prediction_dt = list(map(round, yhat_dt))\n",
        "\n",
        "cm_dt = confusion_matrix(y_test_res, prediction_dt)\n",
        "df_confMat_dt = pd.DataFrame(cm_dt, columns=['predicted_not_promoted','predicted_promoted'], index=['not_promoted', 'promoted'])\n",
        "\n",
        "print('Precision = {}'.format(cm_dt[1][1]/(cm_dt[1][1]+cm_dt[0][1])))\n",
        "print('Recall = {}'.format(cm_dt[1][1]/(cm_dt[1][1]+cm_dt[1][0])))\n",
        "print('Accuracy = {}'.format(cm_dt[1][1]/(sum(sum(cm_dt)))))\n",
        "df_confMat_dt"
      ],
      "execution_count": null,
      "outputs": [
        {
          "output_type": "stream",
          "name": "stdout",
          "text": [
            "Precision = 0.9825829773250082\n",
            "Recall = 0.6045289122523251\n",
            "Accuracy = 0.30226445612616254\n"
          ]
        },
        {
          "output_type": "execute_result",
          "data": {
            "text/html": [
              "\n",
              "  <div id=\"df-4f59c61b-9e4b-43de-b483-fe78f74c138d\">\n",
              "    <div class=\"colab-df-container\">\n",
              "      <div>\n",
              "<style scoped>\n",
              "    .dataframe tbody tr th:only-of-type {\n",
              "        vertical-align: middle;\n",
              "    }\n",
              "\n",
              "    .dataframe tbody tr th {\n",
              "        vertical-align: top;\n",
              "    }\n",
              "\n",
              "    .dataframe thead th {\n",
              "        text-align: right;\n",
              "    }\n",
              "</style>\n",
              "<table border=\"1\" class=\"dataframe\">\n",
              "  <thead>\n",
              "    <tr style=\"text-align: right;\">\n",
              "      <th></th>\n",
              "      <th>predicted_not_promoted</th>\n",
              "      <th>predicted_promoted</th>\n",
              "    </tr>\n",
              "  </thead>\n",
              "  <tbody>\n",
              "    <tr>\n",
              "      <th>not_promoted</th>\n",
              "      <td>4893</td>\n",
              "      <td>53</td>\n",
              "    </tr>\n",
              "    <tr>\n",
              "      <th>promoted</th>\n",
              "      <td>1956</td>\n",
              "      <td>2990</td>\n",
              "    </tr>\n",
              "  </tbody>\n",
              "</table>\n",
              "</div>\n",
              "      <button class=\"colab-df-convert\" onclick=\"convertToInteractive('df-4f59c61b-9e4b-43de-b483-fe78f74c138d')\"\n",
              "              title=\"Convert this dataframe to an interactive table.\"\n",
              "              style=\"display:none;\">\n",
              "        \n",
              "  <svg xmlns=\"http://www.w3.org/2000/svg\" height=\"24px\"viewBox=\"0 0 24 24\"\n",
              "       width=\"24px\">\n",
              "    <path d=\"M0 0h24v24H0V0z\" fill=\"none\"/>\n",
              "    <path d=\"M18.56 5.44l.94 2.06.94-2.06 2.06-.94-2.06-.94-.94-2.06-.94 2.06-2.06.94zm-11 1L8.5 8.5l.94-2.06 2.06-.94-2.06-.94L8.5 2.5l-.94 2.06-2.06.94zm10 10l.94 2.06.94-2.06 2.06-.94-2.06-.94-.94-2.06-.94 2.06-2.06.94z\"/><path d=\"M17.41 7.96l-1.37-1.37c-.4-.4-.92-.59-1.43-.59-.52 0-1.04.2-1.43.59L10.3 9.45l-7.72 7.72c-.78.78-.78 2.05 0 2.83L4 21.41c.39.39.9.59 1.41.59.51 0 1.02-.2 1.41-.59l7.78-7.78 2.81-2.81c.8-.78.8-2.07 0-2.86zM5.41 20L4 18.59l7.72-7.72 1.47 1.35L5.41 20z\"/>\n",
              "  </svg>\n",
              "      </button>\n",
              "      \n",
              "  <style>\n",
              "    .colab-df-container {\n",
              "      display:flex;\n",
              "      flex-wrap:wrap;\n",
              "      gap: 12px;\n",
              "    }\n",
              "\n",
              "    .colab-df-convert {\n",
              "      background-color: #E8F0FE;\n",
              "      border: none;\n",
              "      border-radius: 50%;\n",
              "      cursor: pointer;\n",
              "      display: none;\n",
              "      fill: #1967D2;\n",
              "      height: 32px;\n",
              "      padding: 0 0 0 0;\n",
              "      width: 32px;\n",
              "    }\n",
              "\n",
              "    .colab-df-convert:hover {\n",
              "      background-color: #E2EBFA;\n",
              "      box-shadow: 0px 1px 2px rgba(60, 64, 67, 0.3), 0px 1px 3px 1px rgba(60, 64, 67, 0.15);\n",
              "      fill: #174EA6;\n",
              "    }\n",
              "\n",
              "    [theme=dark] .colab-df-convert {\n",
              "      background-color: #3B4455;\n",
              "      fill: #D2E3FC;\n",
              "    }\n",
              "\n",
              "    [theme=dark] .colab-df-convert:hover {\n",
              "      background-color: #434B5C;\n",
              "      box-shadow: 0px 1px 3px 1px rgba(0, 0, 0, 0.15);\n",
              "      filter: drop-shadow(0px 1px 2px rgba(0, 0, 0, 0.3));\n",
              "      fill: #FFFFFF;\n",
              "    }\n",
              "  </style>\n",
              "\n",
              "      <script>\n",
              "        const buttonEl =\n",
              "          document.querySelector('#df-4f59c61b-9e4b-43de-b483-fe78f74c138d button.colab-df-convert');\n",
              "        buttonEl.style.display =\n",
              "          google.colab.kernel.accessAllowed ? 'block' : 'none';\n",
              "\n",
              "        async function convertToInteractive(key) {\n",
              "          const element = document.querySelector('#df-4f59c61b-9e4b-43de-b483-fe78f74c138d');\n",
              "          const dataTable =\n",
              "            await google.colab.kernel.invokeFunction('convertToInteractive',\n",
              "                                                     [key], {});\n",
              "          if (!dataTable) return;\n",
              "\n",
              "          const docLinkHtml = 'Like what you see? Visit the ' +\n",
              "            '<a target=\"_blank\" href=https://colab.research.google.com/notebooks/data_table.ipynb>data table notebook</a>'\n",
              "            + ' to learn more about interactive tables.';\n",
              "          element.innerHTML = '';\n",
              "          dataTable['output_type'] = 'display_data';\n",
              "          await google.colab.output.renderOutput(dataTable, element);\n",
              "          const docLink = document.createElement('div');\n",
              "          docLink.innerHTML = docLinkHtml;\n",
              "          element.appendChild(docLink);\n",
              "        }\n",
              "      </script>\n",
              "    </div>\n",
              "  </div>\n",
              "  "
            ],
            "text/plain": [
              "              predicted_not_promoted  predicted_promoted\n",
              "not_promoted                    4893                  53\n",
              "promoted                        1956                2990"
            ]
          },
          "metadata": {},
          "execution_count": 48
        }
      ]
    },
    {
      "cell_type": "code",
      "metadata": {
        "id": "9kJPkkcsne_u",
        "colab": {
          "base_uri": "https://localhost:8080/",
          "height": 167
        },
        "outputId": "1d486d88-40bd-482b-a92f-7bd77dacd180"
      },
      "source": [
        "#Random Forest\n",
        "clf_rf = RandomForestClassifier()\n",
        "clf_res_rf = clf_rf.fit(X_train_res, y_train_res)\n",
        "\n",
        "yhat_rf = clf_res_rf.predict(X_test_res)\n",
        "prediction_rf = list(map(round, yhat_rf))\n",
        "\n",
        "cm_rf = confusion_matrix(y_test_res, prediction_rf)\n",
        "df_confMat_rf = pd.DataFrame(cm_rf, columns=['predicted_not_promoted','predicted_promoted'], index=['not_promoted', 'promoted'])\n",
        "\n",
        "print('Precision = {}'.format(cm_rf[1][1]/(cm_rf[1][1]+cm_rf[0][1])))\n",
        "print('Recall = {}'.format(cm_rf[1][1]/(cm_rf[1][1]+cm_rf[1][0])))\n",
        "print('Accuracy = {}'.format(cm_rf[1][1]/(sum(sum(cm_rf)))))\n",
        "df_confMat_rf"
      ],
      "execution_count": null,
      "outputs": [
        {
          "output_type": "stream",
          "name": "stdout",
          "text": [
            "Precision = 0.9906380881990638\n",
            "Recall = 0.8129801860088961\n",
            "Accuracy = 0.40649009300444805\n"
          ]
        },
        {
          "output_type": "execute_result",
          "data": {
            "text/html": [
              "\n",
              "  <div id=\"df-95939f06-856b-49aa-9acb-b976c3d655ee\">\n",
              "    <div class=\"colab-df-container\">\n",
              "      <div>\n",
              "<style scoped>\n",
              "    .dataframe tbody tr th:only-of-type {\n",
              "        vertical-align: middle;\n",
              "    }\n",
              "\n",
              "    .dataframe tbody tr th {\n",
              "        vertical-align: top;\n",
              "    }\n",
              "\n",
              "    .dataframe thead th {\n",
              "        text-align: right;\n",
              "    }\n",
              "</style>\n",
              "<table border=\"1\" class=\"dataframe\">\n",
              "  <thead>\n",
              "    <tr style=\"text-align: right;\">\n",
              "      <th></th>\n",
              "      <th>predicted_not_promoted</th>\n",
              "      <th>predicted_promoted</th>\n",
              "    </tr>\n",
              "  </thead>\n",
              "  <tbody>\n",
              "    <tr>\n",
              "      <th>not_promoted</th>\n",
              "      <td>4908</td>\n",
              "      <td>38</td>\n",
              "    </tr>\n",
              "    <tr>\n",
              "      <th>promoted</th>\n",
              "      <td>925</td>\n",
              "      <td>4021</td>\n",
              "    </tr>\n",
              "  </tbody>\n",
              "</table>\n",
              "</div>\n",
              "      <button class=\"colab-df-convert\" onclick=\"convertToInteractive('df-95939f06-856b-49aa-9acb-b976c3d655ee')\"\n",
              "              title=\"Convert this dataframe to an interactive table.\"\n",
              "              style=\"display:none;\">\n",
              "        \n",
              "  <svg xmlns=\"http://www.w3.org/2000/svg\" height=\"24px\"viewBox=\"0 0 24 24\"\n",
              "       width=\"24px\">\n",
              "    <path d=\"M0 0h24v24H0V0z\" fill=\"none\"/>\n",
              "    <path d=\"M18.56 5.44l.94 2.06.94-2.06 2.06-.94-2.06-.94-.94-2.06-.94 2.06-2.06.94zm-11 1L8.5 8.5l.94-2.06 2.06-.94-2.06-.94L8.5 2.5l-.94 2.06-2.06.94zm10 10l.94 2.06.94-2.06 2.06-.94-2.06-.94-.94-2.06-.94 2.06-2.06.94z\"/><path d=\"M17.41 7.96l-1.37-1.37c-.4-.4-.92-.59-1.43-.59-.52 0-1.04.2-1.43.59L10.3 9.45l-7.72 7.72c-.78.78-.78 2.05 0 2.83L4 21.41c.39.39.9.59 1.41.59.51 0 1.02-.2 1.41-.59l7.78-7.78 2.81-2.81c.8-.78.8-2.07 0-2.86zM5.41 20L4 18.59l7.72-7.72 1.47 1.35L5.41 20z\"/>\n",
              "  </svg>\n",
              "      </button>\n",
              "      \n",
              "  <style>\n",
              "    .colab-df-container {\n",
              "      display:flex;\n",
              "      flex-wrap:wrap;\n",
              "      gap: 12px;\n",
              "    }\n",
              "\n",
              "    .colab-df-convert {\n",
              "      background-color: #E8F0FE;\n",
              "      border: none;\n",
              "      border-radius: 50%;\n",
              "      cursor: pointer;\n",
              "      display: none;\n",
              "      fill: #1967D2;\n",
              "      height: 32px;\n",
              "      padding: 0 0 0 0;\n",
              "      width: 32px;\n",
              "    }\n",
              "\n",
              "    .colab-df-convert:hover {\n",
              "      background-color: #E2EBFA;\n",
              "      box-shadow: 0px 1px 2px rgba(60, 64, 67, 0.3), 0px 1px 3px 1px rgba(60, 64, 67, 0.15);\n",
              "      fill: #174EA6;\n",
              "    }\n",
              "\n",
              "    [theme=dark] .colab-df-convert {\n",
              "      background-color: #3B4455;\n",
              "      fill: #D2E3FC;\n",
              "    }\n",
              "\n",
              "    [theme=dark] .colab-df-convert:hover {\n",
              "      background-color: #434B5C;\n",
              "      box-shadow: 0px 1px 3px 1px rgba(0, 0, 0, 0.15);\n",
              "      filter: drop-shadow(0px 1px 2px rgba(0, 0, 0, 0.3));\n",
              "      fill: #FFFFFF;\n",
              "    }\n",
              "  </style>\n",
              "\n",
              "      <script>\n",
              "        const buttonEl =\n",
              "          document.querySelector('#df-95939f06-856b-49aa-9acb-b976c3d655ee button.colab-df-convert');\n",
              "        buttonEl.style.display =\n",
              "          google.colab.kernel.accessAllowed ? 'block' : 'none';\n",
              "\n",
              "        async function convertToInteractive(key) {\n",
              "          const element = document.querySelector('#df-95939f06-856b-49aa-9acb-b976c3d655ee');\n",
              "          const dataTable =\n",
              "            await google.colab.kernel.invokeFunction('convertToInteractive',\n",
              "                                                     [key], {});\n",
              "          if (!dataTable) return;\n",
              "\n",
              "          const docLinkHtml = 'Like what you see? Visit the ' +\n",
              "            '<a target=\"_blank\" href=https://colab.research.google.com/notebooks/data_table.ipynb>data table notebook</a>'\n",
              "            + ' to learn more about interactive tables.';\n",
              "          element.innerHTML = '';\n",
              "          dataTable['output_type'] = 'display_data';\n",
              "          await google.colab.output.renderOutput(dataTable, element);\n",
              "          const docLink = document.createElement('div');\n",
              "          docLink.innerHTML = docLinkHtml;\n",
              "          element.appendChild(docLink);\n",
              "        }\n",
              "      </script>\n",
              "    </div>\n",
              "  </div>\n",
              "  "
            ],
            "text/plain": [
              "              predicted_not_promoted  predicted_promoted\n",
              "not_promoted                    4908                  38\n",
              "promoted                         925                4021"
            ]
          },
          "metadata": {},
          "execution_count": 44
        }
      ]
    },
    {
      "cell_type": "code",
      "metadata": {
        "id": "KC5gt1ocpKKi",
        "colab": {
          "base_uri": "https://localhost:8080/",
          "height": 268
        },
        "outputId": "9eafdf8c-8471-4003-df70-8aad07906980"
      },
      "source": [
        "#Important features from Random Forest Classifier Method\n",
        "fi_rf = clf_res_rf.feature_importances_\n",
        "rfi_rf = np.abs(fi_rf)/np.sum(np.abs(fi_rf))\n",
        "col = X_train_res.columns\n",
        "df_fi_rf = pd.DataFrame({'feature' : col, 'coef' : rfi_rf}).set_index('feature')\n",
        "df_fi_rf = df_fi_rf.sort_values(by='coef', ascending=True)\n",
        "df_fi_rf"
      ],
      "execution_count": null,
      "outputs": [
        {
          "output_type": "execute_result",
          "data": {
            "text/html": [
              "\n",
              "  <div id=\"df-6c17a42e-a1ef-4bd0-afae-e9d53d4524ec\">\n",
              "    <div class=\"colab-df-container\">\n",
              "      <div>\n",
              "<style scoped>\n",
              "    .dataframe tbody tr th:only-of-type {\n",
              "        vertical-align: middle;\n",
              "    }\n",
              "\n",
              "    .dataframe tbody tr th {\n",
              "        vertical-align: top;\n",
              "    }\n",
              "\n",
              "    .dataframe thead th {\n",
              "        text-align: right;\n",
              "    }\n",
              "</style>\n",
              "<table border=\"1\" class=\"dataframe\">\n",
              "  <thead>\n",
              "    <tr style=\"text-align: right;\">\n",
              "      <th></th>\n",
              "      <th>coef</th>\n",
              "    </tr>\n",
              "    <tr>\n",
              "      <th>feature</th>\n",
              "      <th></th>\n",
              "    </tr>\n",
              "  </thead>\n",
              "  <tbody>\n",
              "    <tr>\n",
              "      <th>awards_won?</th>\n",
              "      <td>0.003688</td>\n",
              "    </tr>\n",
              "    <tr>\n",
              "      <th>length_of_service_trans</th>\n",
              "      <td>0.036168</td>\n",
              "    </tr>\n",
              "    <tr>\n",
              "      <th>avg_training_score_trans</th>\n",
              "      <td>0.058061</td>\n",
              "    </tr>\n",
              "    <tr>\n",
              "      <th>previous_year_rating</th>\n",
              "      <td>0.071402</td>\n",
              "    </tr>\n",
              "    <tr>\n",
              "      <th>satisfaction_score</th>\n",
              "      <td>0.153677</td>\n",
              "    </tr>\n",
              "    <tr>\n",
              "      <th>engagement_score_trans</th>\n",
              "      <td>0.677005</td>\n",
              "    </tr>\n",
              "  </tbody>\n",
              "</table>\n",
              "</div>\n",
              "      <button class=\"colab-df-convert\" onclick=\"convertToInteractive('df-6c17a42e-a1ef-4bd0-afae-e9d53d4524ec')\"\n",
              "              title=\"Convert this dataframe to an interactive table.\"\n",
              "              style=\"display:none;\">\n",
              "        \n",
              "  <svg xmlns=\"http://www.w3.org/2000/svg\" height=\"24px\"viewBox=\"0 0 24 24\"\n",
              "       width=\"24px\">\n",
              "    <path d=\"M0 0h24v24H0V0z\" fill=\"none\"/>\n",
              "    <path d=\"M18.56 5.44l.94 2.06.94-2.06 2.06-.94-2.06-.94-.94-2.06-.94 2.06-2.06.94zm-11 1L8.5 8.5l.94-2.06 2.06-.94-2.06-.94L8.5 2.5l-.94 2.06-2.06.94zm10 10l.94 2.06.94-2.06 2.06-.94-2.06-.94-.94-2.06-.94 2.06-2.06.94z\"/><path d=\"M17.41 7.96l-1.37-1.37c-.4-.4-.92-.59-1.43-.59-.52 0-1.04.2-1.43.59L10.3 9.45l-7.72 7.72c-.78.78-.78 2.05 0 2.83L4 21.41c.39.39.9.59 1.41.59.51 0 1.02-.2 1.41-.59l7.78-7.78 2.81-2.81c.8-.78.8-2.07 0-2.86zM5.41 20L4 18.59l7.72-7.72 1.47 1.35L5.41 20z\"/>\n",
              "  </svg>\n",
              "      </button>\n",
              "      \n",
              "  <style>\n",
              "    .colab-df-container {\n",
              "      display:flex;\n",
              "      flex-wrap:wrap;\n",
              "      gap: 12px;\n",
              "    }\n",
              "\n",
              "    .colab-df-convert {\n",
              "      background-color: #E8F0FE;\n",
              "      border: none;\n",
              "      border-radius: 50%;\n",
              "      cursor: pointer;\n",
              "      display: none;\n",
              "      fill: #1967D2;\n",
              "      height: 32px;\n",
              "      padding: 0 0 0 0;\n",
              "      width: 32px;\n",
              "    }\n",
              "\n",
              "    .colab-df-convert:hover {\n",
              "      background-color: #E2EBFA;\n",
              "      box-shadow: 0px 1px 2px rgba(60, 64, 67, 0.3), 0px 1px 3px 1px rgba(60, 64, 67, 0.15);\n",
              "      fill: #174EA6;\n",
              "    }\n",
              "\n",
              "    [theme=dark] .colab-df-convert {\n",
              "      background-color: #3B4455;\n",
              "      fill: #D2E3FC;\n",
              "    }\n",
              "\n",
              "    [theme=dark] .colab-df-convert:hover {\n",
              "      background-color: #434B5C;\n",
              "      box-shadow: 0px 1px 3px 1px rgba(0, 0, 0, 0.15);\n",
              "      filter: drop-shadow(0px 1px 2px rgba(0, 0, 0, 0.3));\n",
              "      fill: #FFFFFF;\n",
              "    }\n",
              "  </style>\n",
              "\n",
              "      <script>\n",
              "        const buttonEl =\n",
              "          document.querySelector('#df-6c17a42e-a1ef-4bd0-afae-e9d53d4524ec button.colab-df-convert');\n",
              "        buttonEl.style.display =\n",
              "          google.colab.kernel.accessAllowed ? 'block' : 'none';\n",
              "\n",
              "        async function convertToInteractive(key) {\n",
              "          const element = document.querySelector('#df-6c17a42e-a1ef-4bd0-afae-e9d53d4524ec');\n",
              "          const dataTable =\n",
              "            await google.colab.kernel.invokeFunction('convertToInteractive',\n",
              "                                                     [key], {});\n",
              "          if (!dataTable) return;\n",
              "\n",
              "          const docLinkHtml = 'Like what you see? Visit the ' +\n",
              "            '<a target=\"_blank\" href=https://colab.research.google.com/notebooks/data_table.ipynb>data table notebook</a>'\n",
              "            + ' to learn more about interactive tables.';\n",
              "          element.innerHTML = '';\n",
              "          dataTable['output_type'] = 'display_data';\n",
              "          await google.colab.output.renderOutput(dataTable, element);\n",
              "          const docLink = document.createElement('div');\n",
              "          docLink.innerHTML = docLinkHtml;\n",
              "          element.appendChild(docLink);\n",
              "        }\n",
              "      </script>\n",
              "    </div>\n",
              "  </div>\n",
              "  "
            ],
            "text/plain": [
              "                              coef\n",
              "feature                           \n",
              "awards_won?               0.003688\n",
              "length_of_service_trans   0.036168\n",
              "avg_training_score_trans  0.058061\n",
              "previous_year_rating      0.071402\n",
              "satisfaction_score        0.153677\n",
              "engagement_score_trans    0.677005"
            ]
          },
          "metadata": {},
          "execution_count": 49
        }
      ]
    },
    {
      "cell_type": "code",
      "metadata": {
        "id": "W98rdd-BpR8H",
        "colab": {
          "base_uri": "https://localhost:8080/",
          "height": 340
        },
        "outputId": "ecb4838a-446f-4f13-98a7-21bb04661280"
      },
      "source": [
        "df_fi_rf.plot.barh(y='coef')"
      ],
      "execution_count": null,
      "outputs": [
        {
          "output_type": "execute_result",
          "data": {
            "text/plain": [
              "<matplotlib.axes._subplots.AxesSubplot at 0x7f31c0ab1990>"
            ]
          },
          "metadata": {},
          "execution_count": 47
        },
        {
          "output_type": "display_data",
          "data": {
            "image/png": "[encoded data removed]",
            "text/plain": [
              "<Figure size 360x360 with 1 Axes>"
            ]
          },
          "metadata": {}
        }
      ]
    }
  ]
}