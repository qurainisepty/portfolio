{
  "nbformat": 4,
  "nbformat_minor": 0,
  "metadata": {
    "colab": {
      "name": "Web_Scrapping_with_BeautifulSoup.ipynb",
      "provenance": [],
      "authorship_tag": "ABX9TyOW6IQ2i7w4VJ4z5bD07o5G",
      "include_colab_link": true
    },
    "kernelspec": {
      "name": "python3",
      "display_name": "Python 3"
    },
    "language_info": {
      "name": "python"
    }
  },
  "cells": [
    {
      "cell_type": "markdown",
      "metadata": {
        "id": "view-in-github",
        "colab_type": "text"
      },
      "source": [
        "<a href=\"https://colab.research.google.com/github/qurainisepty/portfolio/blob/main/Web_Scrapping_with_BeautifulSoup.ipynb\" target=\"_parent\"><img src=\"https://colab.research.google.com/assets/colab-badge.svg\" alt=\"Open In Colab\"/></a>"
      ]
    },
    {
      "cell_type": "code",
      "execution_count": null,
      "metadata": {
        "id": "KAAJ5b84x_e9"
      },
      "outputs": [],
      "source": [
        "#Library yang dibutuhkan\n",
        "from bs4 import BeautifulSoup as bs\n",
        "from urllib.request import urlopen, Request\n",
        "import pandas as pd"
      ]
    },
    {
      "cell_type": "code",
      "source": [
        "user_agent = \"Mozilla/5.0 (Windows NT 10.0; Win64; x64) AppleWebKit/537.36 (KHTML, like Gecko) Chrome/97.0.4692.71 Safari/537.36\"\n",
        "headers ={\n",
        "    \"User_Agent\" : user_agent,\n",
        "    \"Accept\" : \"image/avif,image/webp,image/apng,image/svg+xml,image/*,*/*;q=0.8\"\n",
        "}\n",
        "alamat = \"https://www.kompas.com/\""
      ],
      "metadata": {
        "id": "DPmVAS_Tyoxz"
      },
      "execution_count": null,
      "outputs": []
    },
    {
      "cell_type": "code",
      "source": [
        "data_request = Request(alamat, headers=headers)\n",
        "response = urlopen(data_request)"
      ],
      "metadata": {
        "id": "FS8R4QsJ379d"
      },
      "execution_count": null,
      "outputs": []
    },
    {
      "cell_type": "code",
      "source": [
        "soup = bs(response, 'html.parser')"
      ],
      "metadata": {
        "id": "aKH5L4b74RUT"
      },
      "execution_count": null,
      "outputs": []
    },
    {
      "cell_type": "code",
      "source": [
        "obj = soup.find( \"div\", {\"class\":\"most__wrap clearfix\"})\n",
        "news_titles = obj.find_all('h4', {\"class\" : \"most__title\"})"
      ],
      "metadata": {
        "id": "QxbRrpOb7q4z"
      },
      "execution_count": null,
      "outputs": []
    },
    {
      "cell_type": "code",
      "source": [
        "news = [title.get_text() for title in news_titles]\n",
        "df_news = pd.DataFrame(news, columns=[\"Judul Berita Populer\"])\n",
        "df_news"
      ],
      "metadata": {
        "colab": {
          "base_uri": "https://localhost:8080/",
          "height": 362
        },
        "id": "gC8cGRKH9ff3",
        "outputId": "0b402d24-888b-4028-fad1-a20c63cf6831"
      },
      "execution_count": null,
      "outputs": [
        {
          "output_type": "execute_result",
          "data": {
            "text/html": [
              "\n",
              "  <div id=\"df-0257f06a-3600-4a1f-b9ab-98a6b79b8e9a\">\n",
              "    <div class=\"colab-df-container\">\n",
              "      <div>\n",
              "<style scoped>\n",
              "    .dataframe tbody tr th:only-of-type {\n",
              "        vertical-align: middle;\n",
              "    }\n",
              "\n",
              "    .dataframe tbody tr th {\n",
              "        vertical-align: top;\n",
              "    }\n",
              "\n",
              "    .dataframe thead th {\n",
              "        text-align: right;\n",
              "    }\n",
              "</style>\n",
              "<table border=\"1\" class=\"dataframe\">\n",
              "  <thead>\n",
              "    <tr style=\"text-align: right;\">\n",
              "      <th></th>\n",
              "      <th>Judul Berita Populer</th>\n",
              "    </tr>\n",
              "  </thead>\n",
              "  <tbody>\n",
              "    <tr>\n",
              "      <th>0</th>\n",
              "      <td>Gempa Guncang Jakarta, Depok, hingga Tangsel</td>\n",
              "    </tr>\n",
              "    <tr>\n",
              "      <th>1</th>\n",
              "      <td>Gempa Terkini, M 6,7 Guncang Sumur Banten, Ter...</td>\n",
              "    </tr>\n",
              "    <tr>\n",
              "      <th>2</th>\n",
              "      <td>\"Nanti Saja Bayarnya Bapak Ibu, Selamatkan Dir...</td>\n",
              "    </tr>\n",
              "    <tr>\n",
              "      <th>3</th>\n",
              "      <td>Di-bully Warganet Usai Kembalikan Bantuan Ganj...</td>\n",
              "    </tr>\n",
              "    <tr>\n",
              "      <th>4</th>\n",
              "      <td>Gempa 6,7 Guncang Banten, Terasa di Jakarta, B...</td>\n",
              "    </tr>\n",
              "    <tr>\n",
              "      <th>5</th>\n",
              "      <td>Aksi Kapolda Metro Lebur Tim Jaguar hingga Rai...</td>\n",
              "    </tr>\n",
              "    <tr>\n",
              "      <th>6</th>\n",
              "      <td>Panggil Anak Kiai Jombang Tersangka Pencabulan...</td>\n",
              "    </tr>\n",
              "    <tr>\n",
              "      <th>7</th>\n",
              "      <td>Seragam Satpam, Dulu Diganti untuk Tumbuhkan K...</td>\n",
              "    </tr>\n",
              "    <tr>\n",
              "      <th>8</th>\n",
              "      <td>Cerita Korban Wanprestasi Yusuf Mansur, 11 Tah...</td>\n",
              "    </tr>\n",
              "    <tr>\n",
              "      <th>9</th>\n",
              "      <td>Gempa Hari Ini M 6,7 Guncang Banten, Sudah 2 K...</td>\n",
              "    </tr>\n",
              "  </tbody>\n",
              "</table>\n",
              "</div>\n",
              "      <button class=\"colab-df-convert\" onclick=\"convertToInteractive('df-0257f06a-3600-4a1f-b9ab-98a6b79b8e9a')\"\n",
              "              title=\"Convert this dataframe to an interactive table.\"\n",
              "              style=\"display:none;\">\n",
              "        \n",
              "  <svg xmlns=\"http://www.w3.org/2000/svg\" height=\"24px\"viewBox=\"0 0 24 24\"\n",
              "       width=\"24px\">\n",
              "    <path d=\"M0 0h24v24H0V0z\" fill=\"none\"/>\n",
              "    <path d=\"M18.56 5.44l.94 2.06.94-2.06 2.06-.94-2.06-.94-.94-2.06-.94 2.06-2.06.94zm-11 1L8.5 8.5l.94-2.06 2.06-.94-2.06-.94L8.5 2.5l-.94 2.06-2.06.94zm10 10l.94 2.06.94-2.06 2.06-.94-2.06-.94-.94-2.06-.94 2.06-2.06.94z\"/><path d=\"M17.41 7.96l-1.37-1.37c-.4-.4-.92-.59-1.43-.59-.52 0-1.04.2-1.43.59L10.3 9.45l-7.72 7.72c-.78.78-.78 2.05 0 2.83L4 21.41c.39.39.9.59 1.41.59.51 0 1.02-.2 1.41-.59l7.78-7.78 2.81-2.81c.8-.78.8-2.07 0-2.86zM5.41 20L4 18.59l7.72-7.72 1.47 1.35L5.41 20z\"/>\n",
              "  </svg>\n",
              "      </button>\n",
              "      \n",
              "  <style>\n",
              "    .colab-df-container {\n",
              "      display:flex;\n",
              "      flex-wrap:wrap;\n",
              "      gap: 12px;\n",
              "    }\n",
              "\n",
              "    .colab-df-convert {\n",
              "      background-color: #E8F0FE;\n",
              "      border: none;\n",
              "      border-radius: 50%;\n",
              "      cursor: pointer;\n",
              "      display: none;\n",
              "      fill: #1967D2;\n",
              "      height: 32px;\n",
              "      padding: 0 0 0 0;\n",
              "      width: 32px;\n",
              "    }\n",
              "\n",
              "    .colab-df-convert:hover {\n",
              "      background-color: #E2EBFA;\n",
              "      box-shadow: 0px 1px 2px rgba(60, 64, 67, 0.3), 0px 1px 3px 1px rgba(60, 64, 67, 0.15);\n",
              "      fill: #174EA6;\n",
              "    }\n",
              "\n",
              "    [theme=dark] .colab-df-convert {\n",
              "      background-color: #3B4455;\n",
              "      fill: #D2E3FC;\n",
              "    }\n",
              "\n",
              "    [theme=dark] .colab-df-convert:hover {\n",
              "      background-color: #434B5C;\n",
              "      box-shadow: 0px 1px 3px 1px rgba(0, 0, 0, 0.15);\n",
              "      filter: drop-shadow(0px 1px 2px rgba(0, 0, 0, 0.3));\n",
              "      fill: #FFFFFF;\n",
              "    }\n",
              "  </style>\n",
              "\n",
              "      <script>\n",
              "        const buttonEl =\n",
              "          document.querySelector('#df-0257f06a-3600-4a1f-b9ab-98a6b79b8e9a button.colab-df-convert');\n",
              "        buttonEl.style.display =\n",
              "          google.colab.kernel.accessAllowed ? 'block' : 'none';\n",
              "\n",
              "        async function convertToInteractive(key) {\n",
              "          const element = document.querySelector('#df-0257f06a-3600-4a1f-b9ab-98a6b79b8e9a');\n",
              "          const dataTable =\n",
              "            await google.colab.kernel.invokeFunction('convertToInteractive',\n",
              "                                                     [key], {});\n",
              "          if (!dataTable) return;\n",
              "\n",
              "          const docLinkHtml = 'Like what you see? Visit the ' +\n",
              "            '<a target=\"_blank\" href=https://colab.research.google.com/notebooks/data_table.ipynb>data table notebook</a>'\n",
              "            + ' to learn more about interactive tables.';\n",
              "          element.innerHTML = '';\n",
              "          dataTable['output_type'] = 'display_data';\n",
              "          await google.colab.output.renderOutput(dataTable, element);\n",
              "          const docLink = document.createElement('div');\n",
              "          docLink.innerHTML = docLinkHtml;\n",
              "          element.appendChild(docLink);\n",
              "        }\n",
              "      </script>\n",
              "    </div>\n",
              "  </div>\n",
              "  "
            ],
            "text/plain": [
              "                                Judul Berita Populer\n",
              "0       Gempa Guncang Jakarta, Depok, hingga Tangsel\n",
              "1  Gempa Terkini, M 6,7 Guncang Sumur Banten, Ter...\n",
              "2  \"Nanti Saja Bayarnya Bapak Ibu, Selamatkan Dir...\n",
              "3  Di-bully Warganet Usai Kembalikan Bantuan Ganj...\n",
              "4  Gempa 6,7 Guncang Banten, Terasa di Jakarta, B...\n",
              "5  Aksi Kapolda Metro Lebur Tim Jaguar hingga Rai...\n",
              "6  Panggil Anak Kiai Jombang Tersangka Pencabulan...\n",
              "7  Seragam Satpam, Dulu Diganti untuk Tumbuhkan K...\n",
              "8  Cerita Korban Wanprestasi Yusuf Mansur, 11 Tah...\n",
              "9  Gempa Hari Ini M 6,7 Guncang Banten, Sudah 2 K..."
            ]
          },
          "metadata": {},
          "execution_count": 6
        }
      ]
    },
    {
      "cell_type": "code",
      "source": [
        "print(df_news)"
      ],
      "metadata": {
        "colab": {
          "base_uri": "https://localhost:8080/"
        },
        "id": "DYi-Atei95BC",
        "outputId": "c8a571a4-7c38-43ab-acfe-d91fd20001e0"
      },
      "execution_count": null,
      "outputs": [
        {
          "output_type": "stream",
          "name": "stdout",
          "text": [
            "                                Judul Berita Populer\n",
            "0       Gempa Guncang Jakarta, Depok, hingga Tangsel\n",
            "1  Gempa Terkini, M 6,7 Guncang Sumur Banten, Ter...\n",
            "2  \"Nanti Saja Bayarnya Bapak Ibu, Selamatkan Dir...\n",
            "3  Di-bully Warganet Usai Kembalikan Bantuan Ganj...\n",
            "4  Gempa 6,7 Guncang Banten, Terasa di Jakarta, B...\n",
            "5  Aksi Kapolda Metro Lebur Tim Jaguar hingga Rai...\n",
            "6  Panggil Anak Kiai Jombang Tersangka Pencabulan...\n",
            "7  Seragam Satpam, Dulu Diganti untuk Tumbuhkan K...\n",
            "8  Cerita Korban Wanprestasi Yusuf Mansur, 11 Tah...\n",
            "9  Gempa Hari Ini M 6,7 Guncang Banten, Sudah 2 K...\n"
          ]
        }
      ]
    }
  ]
}